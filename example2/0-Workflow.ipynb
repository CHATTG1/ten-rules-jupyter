{
 "cells": [
  {
   "cell_type": "markdown",
   "metadata": {},
   "source": [
    "# Simulate Phylogenetic Trees and Sequences"
   ]
  },
  {
   "cell_type": "markdown",
   "metadata": {},
   "source": [
    "**The notebook in this directory demonstrates the \"Ten Rules for Reproducible Research in Jupyter Notebooks\". Throughout the notebook, we refer to some the rules we applied.**\n",
    "\n",
    "**For example, this notebook demonstrates:**\n",
    "\n",
    "---\n",
    "\n",
    "**Rule 1: Tell a Story for an Audience.** This notebook was developed for computational biologists to simulate phylogenetic trees and sequence evolution.\n",
    "\n",
    "**Rule 3: Build a Pipeline** This notebook describes the entire workflow, including model selection, tree simulation, sequence simulation, and analytics.\n",
    "\n",
    "**Rule 5: Use Cell, Section and Nodebook Divisions to Make Steps Clear.** We broke the workflow into separate notebooks and use this top-level notebook to explain and orchestrate the workflow.\n",
    "\n",
    "---"
   ]
  },
  {
   "cell_type": "markdown",
   "metadata": {},
   "source": [
    "## Introduction"
   ]
  },
  {
   "cell_type": "markdown",
   "metadata": {},
   "source": [
    "When modeling the evolution of sequences, it is common to imagine the generative process as two steps:\n",
    "* Modeling the tree evolution (tree topology and branch lengths)\n",
    "* Modeling the sequence evolution down the given tree (root sequence, nucleotide frequencies, and transition rates)"
   ]
  },
  {
   "cell_type": "markdown",
   "metadata": {},
   "source": [
    "We can sample the probability distributions defined by models of tree and sequence evolution in order to generate simulated datasets."
   ]
  },
  {
   "cell_type": "markdown",
   "metadata": {},
   "source": [
    "## Goal\n",
    "This notebook demonstrates how to create a reproducible record to simulate and analyze a phylogenetic tree and sequences. We simulate a phylogenetic tree under the dual-birth model [(Moshiri & Mirarab, 2017)](https://doi.org/10.1093/sysbio/syx088), and we subsequently simulate a random DNA sequence down the phylogenetic tree under the Jukes-Cantor (JC69) model [(Jukes & Cantor, 1969)](http://dx.doi.org/10.1016/B978-1-4832-3211-9.50009-7)\n",
    "\n",
    "**Run the following notebooks and explore how we applied the Ten Simple Rules.**"
   ]
  },
  {
   "cell_type": "markdown",
   "metadata": {},
   "source": [
    "## 1. Simulate the Tree"
   ]
  },
  {
   "cell_type": "markdown",
   "metadata": {},
   "source": [
    "First, we simulate a phylogenetic tree under the dual-birth model [(Moshiri & Mirarab, 2017)](https://doi.org/10.1093/sysbio/syx088), and we perform some basic analyses of the tree.\n",
    "\n",
    "Run the following notebook to simulate the tree and perform the basic analyses of the tree."
   ]
  },
  {
   "cell_type": "markdown",
   "metadata": {},
   "source": [
    "[1-SimulateTree.ipynb](./1-SimulateTree.ipynb)"
   ]
  },
  {
   "cell_type": "markdown",
   "metadata": {},
   "source": [
    "This notebook saves the simulated tree in the file `./intermediate_data/dualbirth.tre`."
   ]
  },
  {
   "cell_type": "markdown",
   "metadata": {},
   "source": [
    "## 2. Simulate the Sequences"
   ]
  },
  {
   "cell_type": "markdown",
   "metadata": {},
   "source": [
    "Next, we simulate sequences under the previously-simulated phylogenetic tree under the Jukes-Cantor (JC69) model [(Jukes & Cantor, 1969)](http://dx.doi.org/10.1016/B978-1-4832-3211-9.50009-7), and we perform basic comparisons between the simulated sequences and the simulated tree.\n",
    "\n",
    "Run the following notebook to simulate the sequences and perform basic comparisons between the simulated sequences and the simulated tree."
   ]
  },
  {
   "cell_type": "markdown",
   "metadata": {},
   "source": [
    "[2-SimulateSequences.ipynb](./2-SimulateSequences.ipynb)"
   ]
  },
  {
   "cell_type": "markdown",
   "metadata": {},
   "source": [
    "This notebook saves the simulated sequences in the file `./intermediate_data/sequences.fas`."
   ]
  },
  {
   "cell_type": "markdown",
   "metadata": {},
   "source": [
    "## Version and Hardware Information"
   ]
  },
  {
   "cell_type": "markdown",
   "metadata": {},
   "source": [
    "---\n",
    "\n",
    "**Rule 6: Declare Dependencies.** Here we use the watermark extension to print software, operating system, and hardware version information.\n",
    "\n",
    "---"
   ]
  },
  {
   "cell_type": "code",
   "execution_count": 1,
   "metadata": {},
   "outputs": [
    {
     "name": "stdout",
     "output_type": "stream",
     "text": [
      "CPython 3.6.3\n",
      "IPython 6.3.1\n",
      "\n",
      "matplotlib 2.2.2\n",
      "pyvolve 0.8.8\n",
      "seaborn 0.9.0\n",
      "treesap n\u0007\n",
      "treeswift n\u0007\n",
      "\n",
      "compiler   : GCC 4.2.1 Compatible Clang 4.0.1 (tags/RELEASE_401/final)\n",
      "system     : Darwin\n",
      "release    : 17.5.0\n",
      "machine    : x86_64\n",
      "processor  : i386\n",
      "CPU cores  : 4\n",
      "interpreter: 64bit\n"
     ]
    }
   ],
   "source": [
    "%load_ext watermark\n",
    "%watermark -v -m -p matplotlib,pyvolve,seaborn,treesap,treeswift"
   ]
  },
  {
   "cell_type": "markdown",
   "metadata": {},
   "source": [
    "---\n",
    "\n",
    "**Author:** [Niema Moshiri](https://niema.net/), UC San Diego, October 2, 2018\n",
    "\n",
    "---"
   ]
  }
 ],
 "metadata": {
  "kernelspec": {
   "display_name": "Python 3",
   "language": "python",
   "name": "python3"
  },
  "language_info": {
   "codemirror_mode": {
    "name": "ipython",
    "version": 3
   },
   "file_extension": ".py",
   "mimetype": "text/x-python",
   "name": "python",
   "nbconvert_exporter": "python",
   "pygments_lexer": "ipython3",
   "version": "3.6.3"
  }
 },
 "nbformat": 4,
 "nbformat_minor": 2
}
