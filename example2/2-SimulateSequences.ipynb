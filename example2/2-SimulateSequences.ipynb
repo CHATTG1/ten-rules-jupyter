{
 "cells": [
  {
   "cell_type": "markdown",
   "metadata": {},
   "source": [
    "# Simulate the Sequences\n",
    "This notebooks reads a phylogenetic tree and simulates sequences down the tree."
   ]
  },
  {
   "cell_type": "markdown",
   "metadata": {},
   "source": [
    "---\n",
    "**Rule 2: Document Your Process, Not Just Results.** Here we describe the steps how to produce the dataset.\n",
    "\n",
    "**Rule 3: Document the Entire Workflow.** This notebook describes the entire workflow, and its modularity makes it easy to change models or model parameters.\n",
    "\n",
    "**Rule 7: Share and Explain Your Data.** To enable reproducibility we provide a `/intermediate_data` directory with files produced by the workflow.\n",
    "\n",
    "---"
   ]
  },
  {
   "cell_type": "markdown",
   "metadata": {},
   "source": [
    "## Define Sequence Simulation Parameters\n",
    "The Jukes-Cantor (JC69) model [(Jukes & Cantor, 1969)](http://dx.doi.org/10.1016/B978-1-4832-3211-9.50009-7) does not have any parameters, as it assumes fully neutral sequence evolution. We will need to simulate a root sequence, so we will specify that we want a sequence of length *k* = 300 (similar to the length of *Alu* sequences).\n",
    "\n",
    "We will also include import statements here to keep the notebook clean and organized."
   ]
  },
  {
   "cell_type": "code",
   "execution_count": 1,
   "metadata": {},
   "outputs": [],
   "source": [
    "INPUT_TREE_FILE = \"./intermediate_data/dualbirth.tre\"\n",
    "OUTPUT_SEQUENCE_FORMAT = 'fasta'\n",
    "OUTPUT_SEQUENCE_FILE = \"./intermediate_data/sequences.fas\"\n",
    "MODEL = 'JC69'\n",
    "K = 300"
   ]
  },
  {
   "cell_type": "code",
   "execution_count": 2,
   "metadata": {},
   "outputs": [],
   "source": [
    "import matplotlib.pyplot as plt\n",
    "from math import log\n",
    "from pyvolve import Evolver,Model,Partition\n",
    "from pyvolve.newick import read_tree\n",
    "from random import choice\n",
    "from seaborn import distplot\n",
    "from treeswift import read_tree_newick"
   ]
  },
  {
   "cell_type": "markdown",
   "metadata": {},
   "source": [
    "## Simulate the Root Sequence\n",
    "We will be evolving a root sequence down the previously simulated phylogenetic tree, but we first need to create our root sequence. For the purposes of this notebook, we will simply randomly generate a sequence of length *k* = 300 with equal probabilities of each nucleotide."
   ]
  },
  {
   "cell_type": "code",
   "execution_count": 3,
   "metadata": {},
   "outputs": [],
   "source": [
    "root_sequence = ''.join(choice('ACGT') for _ in range(K))"
   ]
  },
  {
   "cell_type": "markdown",
   "metadata": {},
   "source": [
    "## Simulate the Sequences\n",
    "We will now run [Pyvolve](https://github.com/sjspielman/pyvolve) to simulate the sequences."
   ]
  },
  {
   "cell_type": "code",
   "execution_count": 4,
   "metadata": {},
   "outputs": [],
   "source": [
    "tree = read_tree(file='./intermediate_data/dualbirth.tre')\n",
    "model = Model(MODEL)\n",
    "partition = Partition(models=model, root_sequence=root_sequence)\n",
    "evolve = Evolver(tree=tree, partitions=partition)\n",
    "evolve(seqfile=OUTPUT_SEQUENCE_FILE, seqfmt=OUTPUT_SEQUENCE_FORMAT, ratefile=None, infofile=None)"
   ]
  },
  {
   "cell_type": "markdown",
   "metadata": {},
   "source": [
    "## Load the Datasets\n",
    "Pyvolve automatically writes the sequences to file, so we will need to load them to be able to analyze them. Also, Pyvolve loads the simulated tree in its own format, but because we will want to use more advanced features than Pyvolve's tree class allows, we will reload the tree using [TreeSwift](https://github.com/niemasd/TreeSwift)."
   ]
  },
  {
   "cell_type": "code",
   "execution_count": 5,
   "metadata": {},
   "outputs": [],
   "source": [
    "def read_FASTA(filename):\n",
    "    seqs = {}\n",
    "    name = None\n",
    "    seq = ''\n",
    "    f = open(filename)\n",
    "    for line in f:\n",
    "        l = line.strip()\n",
    "        if len(l) == 0:\n",
    "            continue\n",
    "        if l[0] == '>':\n",
    "            if name is not None:\n",
    "                assert len(seq) != 0, \"Malformed FASTA\"\n",
    "                seqs[name] = seq\n",
    "            name = l[1:]\n",
    "            assert name not in seqs, \"Duplicate sequence ID: %s\" % name\n",
    "            seq = ''\n",
    "        else:\n",
    "            seq += l\n",
    "    f.close()\n",
    "    assert name is not None and len(seq) != 0, \"Malformed FASTA\"\n",
    "    seqs[name] = seq\n",
    "    return seqs"
   ]
  },
  {
   "cell_type": "code",
   "execution_count": 6,
   "metadata": {},
   "outputs": [],
   "source": [
    "sequences = read_FASTA(OUTPUT_SEQUENCE_FILE)\n",
    "tree = read_tree_newick(INPUT_TREE_FILE)"
   ]
  },
  {
   "cell_type": "markdown",
   "metadata": {},
   "source": [
    "## Compare Pairwise Distance Distributions\n",
    "We can compare the pairwise distance distributions between the simulated datasets. Specifically, we will show the pairwise distance distribution of leaves on the simulated tree, and we will show the pairwise Hamming and JC69-corrected distributions of the simulated sequences.\n",
    "\n",
    "For two sequences $u,v$ with true JC69 distance $d(u,v)$, the Hamming distance $h(u,v)$ is expected to be *at most* equal to $d(u,v)$, but as $d(u,v)$ increases, $h(u,v)$ will deviate further and further from $d(u,v)$. Specifically, the following relation holds in expectation:\n",
    "\n",
    "$h(u,v) = \\frac{3\\left(1+e^{-\\frac{4d(u,v)}{3}}\\right)}{4}$\n",
    "\n",
    "This is because, any time an already-mutated site mutates again, the JC69 distance increases, but this second mutation is unobservable to us, so the Hamming distance does not change. An intuitive way to help internalize this phenomenon is to realize that, by definition, the theoretical maximum possible Hamming distance between two sequences is exactly 100%, whereas JC69 distance is theoretically unbounded. This relation allows for a simple correction of Hamming distances to JC69:\n",
    "\n",
    "$d(u,v) = -\\frac{3}{4}\\ln\\left(1-\\frac{4h(u,v)}{3}\\right)$"
   ]
  },
  {
   "cell_type": "code",
   "execution_count": 7,
   "metadata": {},
   "outputs": [],
   "source": [
    "def compute_tree_distances(tree):\n",
    "    dm = tree.distance_matrix()\n",
    "    keys = list(dm.keys())\n",
    "    return [dm[keys[i]][keys[j]] for i in range(len(keys)-1) for j in range(i+1,len(keys))]"
   ]
  },
  {
   "cell_type": "code",
   "execution_count": 8,
   "metadata": {},
   "outputs": [],
   "source": [
    "def hamming(u,v):\n",
    "    return sum(u[i] != v[i] for i in range(len(u)))/float(len(u))"
   ]
  },
  {
   "cell_type": "code",
   "execution_count": 9,
   "metadata": {},
   "outputs": [],
   "source": [
    "def compute_hamming_distances(sequences):\n",
    "    keys = list(sequences.keys())\n",
    "    return [hamming(sequences[keys[i]], sequences[keys[j]]) for i in range(len(keys)-1) for j in range(i+1,len(keys))]"
   ]
  },
  {
   "cell_type": "code",
   "execution_count": 10,
   "metadata": {},
   "outputs": [],
   "source": [
    "def jc69_correction(h):\n",
    "    return -3*log(1-(4*h/3))/4"
   ]
  },
  {
   "cell_type": "code",
   "execution_count": 11,
   "metadata": {},
   "outputs": [],
   "source": [
    "pairwise_distances = dict()\n",
    "pairwise_distances['Tree'] = compute_tree_distances(tree)\n",
    "pairwise_distances['Hamming'] = compute_hamming_distances(sequences)\n",
    "pairwise_distances['Jukes-Cantor 69 (JC69)'] = [jc69_correction(h) for h in pairwise_distances['Hamming']]"
   ]
  },
  {
   "cell_type": "code",
   "execution_count": 12,
   "metadata": {},
   "outputs": [
    {
     "data": {
      "image/png": "[encoded data removed]",
      "text/plain": [
       "<Figure size 432x288 with 1 Axes>"
      ]
     },
     "metadata": {},
     "output_type": "display_data"
    }
   ],
   "source": [
    "colors = {'Tree':'blue', 'Hamming':'red', 'Jukes-Cantor 69 (JC69)':'green'}\n",
    "for k in sorted(pairwise_distances.keys()):\n",
    "    distplot(pairwise_distances[k], kde=True, hist=False, color=colors[k], label=k);\n",
    "plt.title(\"Pairwise Distance Distributions\");\n",
    "plt.xlabel(\"Pairwise Distance\");\n",
    "plt.ylabel(\"Kernel Density Estimate\");"
   ]
  },
  {
   "cell_type": "code",
   "execution_count": 13,
   "metadata": {},
   "outputs": [
    {
     "name": "stdout",
     "output_type": "stream",
     "text": [
      "Average Pairwise Hamming Distance: 0.373285\n",
      "Average Pairwise Jukes-Cantor 69 (JC69) Distance: 0.546562\n",
      "Average Pairwise Tree Distance: 0.477783\n"
     ]
    }
   ],
   "source": [
    "for k in sorted(pairwise_distances.keys()):\n",
    "    print(\"Average Pairwise %s Distance: %f\" % (k, sum(pairwise_distances[k])/float(len(pairwise_distances[k]))))"
   ]
  },
  {
   "cell_type": "markdown",
   "metadata": {},
   "source": [
    "---\n",
    "\n",
    "**Author:** [Niema Moshiri](https://niema.net/), UC San Diego, October 2, 2018\n",
    "\n",
    "---"
   ]
  }
 ],
 "metadata": {
  "kernelspec": {
   "display_name": "Python 3",
   "language": "python",
   "name": "python3"
  },
  "language_info": {
   "codemirror_mode": {
    "name": "ipython",
    "version": 3
   },
   "file_extension": ".py",
   "mimetype": "text/x-python",
   "name": "python",
   "nbconvert_exporter": "python",
   "pygments_lexer": "ipython3",
   "version": "3.7.0"
  }
 },
 "nbformat": 4,
 "nbformat_minor": 2
}
