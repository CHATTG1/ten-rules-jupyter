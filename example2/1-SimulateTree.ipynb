{
 "cells": [
  {
   "cell_type": "markdown",
   "metadata": {},
   "source": [
    "# Simulate the Tree\n",
    "This notebook simulates a phylogenetic tree under the dual-birth model [(Moshiri & Mirarab, 2017)](https://doi.org/10.1093/sysbio/syx088) and performs some basic analyses of the tree."
   ]
  },
  {
   "cell_type": "markdown",
   "metadata": {},
   "source": [
    "---\n",
    "**Rule 2: Document the Process, Not Just the Results.** Here we describe the steps how to produce the dataset.\n",
    "\n",
    "**Rule 7: Build a Pipeline.** This notebook describes the entire workflow, and its modularity makes it easy to change models or model parameters.\n",
    "\n",
    "**Rule 8: Share and Explain Your Data.** To enable reproducibility we provide a `/intermediate_data` directory with files produced by the workflow.\n",
    "\n",
    "---"
   ]
  },
  {
   "cell_type": "markdown",
   "metadata": {},
   "source": [
    "## Define Tree Simulation Parameters\n",
    "In the dual-birth model, all branches are labeled as either *active* or *inactive* and is parameterized by two rates: the *birth rate* $\\left(\\lambda_b\\right)$, which is the Poisson rate at which active branches split, and the *activation rate* $\\left(\\lambda_a\\right)$, which is the Poisson rate at which inactive branches split, where $\\lambda_a\\le\\lambda_b$. We will start by choosing our desired values for these two rates. For our purposes, we will choose the rate estimates for *Alu* elements as found in the original manuscript [(Moshiri & Mirarab, 2017)](https://doi.org/10.1093/sysbio/syx088).\n",
    "\n",
    "Our tree simulations also require an end criterion: either a tree height or a number of leaves. We will specify that we want trees with *n* = 100 leaves.\n",
    "\n",
    "We will also include import statements here to keep the notebook clean and organized."
   ]
  },
  {
   "cell_type": "code",
   "execution_count": 1,
   "metadata": {},
   "outputs": [],
   "source": [
    "OUTPUT_TREE_FILE = \"./intermediate_data/dualbirth.tre\"\n",
    "BIRTH_RATE = 122.03\n",
    "ACTIVATION_RATE = 0.73\n",
    "NUM_LEAVES = 100"
   ]
  },
  {
   "cell_type": "code",
   "execution_count": 2,
   "metadata": {},
   "outputs": [],
   "source": [
    "import matplotlib.pyplot as plt\n",
    "from seaborn import distplot\n",
    "from treesap import dualbirth_tree"
   ]
  },
  {
   "cell_type": "markdown",
   "metadata": {},
   "source": [
    "## Simulate the Tree\n",
    "We can now use [TreeSAP](https://github.com/niemasd/TreeSAP) to simulate the tree, which will return a [TreeSwift](https://github.com/niemasd/TreeSwift) `Tree` object."
   ]
  },
  {
   "cell_type": "code",
   "execution_count": 3,
   "metadata": {},
   "outputs": [],
   "source": [
    "tree = dualbirth_tree(Lb=BIRTH_RATE, La=ACTIVATION_RATE, end_num_leaves=NUM_LEAVES)"
   ]
  },
  {
   "cell_type": "markdown",
   "metadata": {},
   "source": [
    "A common file format to represent tree structures is the Newick format. In TreeSwift, `Tree` objects have a `newick()` function to output a Newick string representation of the tree. The `str()` cast automatically calls the `newick()` function, so we can use Python's `print()` function to print the tree in the Newick format conveniently. Thus, we could run `print(tree)` to print a Newick string representation of the tree we have simulated under the dual-birth model, but because of the length, we will only print a prefix to give you an idea of how it looks."
   ]
  },
  {
   "cell_type": "code",
   "execution_count": 4,
   "metadata": {},
   "outputs": [
    {
     "name": "stdout",
     "output_type": "stream",
     "text": [
      "[&R] (((((((((((((((((((((((((((((((99:0.011375271772943896,98:0.011375271772943896):0.0006842287140...\n"
     ]
    }
   ],
   "source": [
    "print('%s...' % tree.newick()[:100])"
   ]
  },
  {
   "cell_type": "markdown",
   "metadata": {},
   "source": [
    "## Explore the Tree\n",
    "Now that we've simulated our tree, we can begin to explore its properties and statistics. For example, consider the following questions:\n",
    "* How many lineages exist at any given \"time\" (where \"time\" is measured in unit of \"expected number of per-site mutations\")?\n",
    "* What is the branch length distribution? What about just internal branches? What about just terminal branches?\n",
    "* What is the height? Diameter?\n",
    "* What is the average branch length? Internal branch length? Terminal branch length?\n",
    "* What is the Colless balance index? Sackin balance index? Gamma statistic? Treeness?"
   ]
  },
  {
   "cell_type": "code",
   "execution_count": 5,
   "metadata": {},
   "outputs": [
    {
     "data": {
      "image/png": "[encoded data removed]",
      "text/plain": [
       "<Figure size 432x288 with 1 Axes>"
      ]
     },
     "metadata": {},
     "output_type": "display_data"
    }
   ],
   "source": [
    "tree.ltt(); plt.show()"
   ]
  },
  {
   "cell_type": "markdown",
   "metadata": {},
   "source": [
    "We see that, as we move forward in time, the number of lineages grows more and more rapidly. This is because, in the dual-birth model, each lineage is a Poisson process, so the rate at which splitting events occurs increases as more lineages are created."
   ]
  },
  {
   "cell_type": "code",
   "execution_count": 6,
   "metadata": {},
   "outputs": [],
   "source": [
    "branch_lengths = dict()\n",
    "branch_lengths['all'] = list(tree.branch_lengths())\n",
    "branch_lengths['internal'] = list(tree.branch_lengths(terminal=False))\n",
    "branch_lengths['terminal'] = list(tree.branch_lengths(internal=False))"
   ]
  },
  {
   "cell_type": "code",
   "execution_count": 7,
   "metadata": {},
   "outputs": [
    {
     "data": {
      "image/png": "[encoded data removed]",
      "text/plain": [
       "<Figure size 432x288 with 1 Axes>"
      ]
     },
     "metadata": {},
     "output_type": "display_data"
    }
   ],
   "source": [
    "colors = {'all':'blue', 'internal':'red', 'terminal':'green'}\n",
    "for k in sorted(branch_lengths.keys()):\n",
    "    distplot(branch_lengths[k], kde=True, hist=False, color=colors[k], label=k.capitalize());\n",
    "plt.title(\"Branch Length Distributions\");\n",
    "plt.xlabel(\"Branch Length\");\n",
    "plt.ylabel(\"Kernel Density Estimate\");"
   ]
  },
  {
   "cell_type": "markdown",
   "metadata": {},
   "source": [
    "We see that, as expected under the dual-birth model, the distribution of internal branch lengths is smaller than that of terminal branch lengths. Specifically, we see that the vast majority of internal branches are very close to 0 length (i.e., are extremely short).\n",
    "\n",
    "We can compare these three branch length distributions numerically as well by comparing their averages."
   ]
  },
  {
   "cell_type": "code",
   "execution_count": 8,
   "metadata": {},
   "outputs": [
    {
     "name": "stdout",
     "output_type": "stream",
     "text": [
      "Average Branch Length: 0.038551\n",
      "Average Internal Branch Length: 0.008346\n",
      "Average Terminal Branch Length: 0.068454\n"
     ]
    }
   ],
   "source": [
    "print(\"Average Branch Length: %f\" % tree.avg_branch_length())\n",
    "print(\"Average Internal Branch Length: %f\" % tree.avg_branch_length(terminal=False))\n",
    "print(\"Average Terminal Branch Length: %f\" % tree.avg_branch_length(internal=False))"
   ]
  },
  {
   "cell_type": "markdown",
   "metadata": {},
   "source": [
    "In addition to looking at the branch length distributions of trees, it is common to look at the *height* (i.e., maximum distance from the root to a leaf), *diameter* (i.e., maximum pairwise distance between leaves), and *treeness* (sum of internal branch lengths divided by sum of all branch lengths). These values give you an idea of the distances between elements in your tree."
   ]
  },
  {
   "cell_type": "code",
   "execution_count": 9,
   "metadata": {},
   "outputs": [
    {
     "name": "stdout",
     "output_type": "stream",
     "text": [
      "Height: 0.206145\n",
      "Diameter: 0.408248\n",
      "Treeness: 0.107705\n"
     ]
    }
   ],
   "source": [
    "print(\"Height: %f\" % tree.height())\n",
    "print(\"Diameter: %f\" % tree.diameter())\n",
    "print(\"Treeness: %f\" % tree.treeness())"
   ]
  },
  {
   "cell_type": "markdown",
   "metadata": {},
   "source": [
    "In addition to distances on a phylogenetic tree, the topology of the tree is typically of importance to us. In the case of the dual-birth model, the topology of the tree is significantly affected by the ratio $r={\\lambda_a}/{\\lambda_b}$, and the balance of the tree can be used to estimate this ratio. Two common metrics to do so are the Colless Balance Index and the Sackin Index, both of which are described by [Mir, Rossello, & Rotger (2012)](https://arxiv.org/abs/1202.1223)."
   ]
  },
  {
   "cell_type": "code",
   "execution_count": 10,
   "metadata": {},
   "outputs": [
    {
     "name": "stdout",
     "output_type": "stream",
     "text": [
      "Colless Balance Index: 0.297052\n",
      "Sackin Balance Index: 18.030000\n"
     ]
    }
   ],
   "source": [
    "print(\"Colless Balance Index: %f\" % tree.colless())\n",
    "print(\"Sackin Balance Index: %f\" % tree.sackin())"
   ]
  },
  {
   "cell_type": "markdown",
   "metadata": {},
   "source": [
    "The rates of speciation down the tree are also inherently of interest. Given a phylogenetic tree, we may want to test the null hypothesis that speciation occurs at a constant rate over time. [Pybus & Harvey (2000)](https://doi.org/10.1098/rspb.2000.1278) developed a statistical test, the $\\gamma$-statistic, to compare a given tree against the null hypothesis. The $\\gamma$-statistic is essentially a summary of the information contained in the internode intervals of a phylogeny. If $\\gamma>0$, a phylogeny's internal nodes are closer to the leaves than expected under with a constant rate of speciation, and if $\\gamma<0$, the internal nodes are closer to the root than expected. In this example, we saw earlier that the tree we simulated under the dual-birth model had much longer terminal branches than internal branches, which implies that we would expect a very negative $\\gamma$."
   ]
  },
  {
   "cell_type": "code",
   "execution_count": 11,
   "metadata": {},
   "outputs": [
    {
     "name": "stdout",
     "output_type": "stream",
     "text": [
      "Gamma Statistic: -7.434936\n"
     ]
    }
   ],
   "source": [
    "print(\"Gamma Statistic: %f\" % tree.gamma_statistic())"
   ]
  },
  {
   "cell_type": "markdown",
   "metadata": {},
   "source": [
    "## Save Dataset\n",
    "Now that we have finished exploring our tree, we can save it in the Newick format. The tool that we wish to use next doesn't support the \"rooted\" prefix of the Newick format (`[&R]`), so we need to specify to TreeSwift that we wish to omit the \"rooted\" prefix."
   ]
  },
  {
   "cell_type": "code",
   "execution_count": 12,
   "metadata": {},
   "outputs": [],
   "source": [
    "tree.write_tree_newick(OUTPUT_TREE_FILE, hide_rooted_prefix=True)"
   ]
  },
  {
   "cell_type": "markdown",
   "metadata": {},
   "source": [
    "## Next step\n",
    "After you saved the dataset here, go back to the [0-Workflow.ipynb](./0-Workflow.ipynb), or go to [2-SimulateSequences.ipynb](./2-SimulateSequences.ipynb) to run the next step of the analysis."
   ]
  },
  {
   "cell_type": "markdown",
   "metadata": {},
   "source": [
    "---\n",
    "\n",
    "**Author:** [Niema Moshiri](https://niema.net/), UC San Diego, October 2, 2018\n",
    "\n",
    "---"
   ]
  }
 ],
 "metadata": {
  "kernelspec": {
   "display_name": "Python 3",
   "language": "python",
   "name": "python3"
  },
  "language_info": {
   "codemirror_mode": {
    "name": "ipython",
    "version": 3
   },
   "file_extension": ".py",
   "mimetype": "text/x-python",
   "name": "python",
   "nbconvert_exporter": "python",
   "pygments_lexer": "ipython3",
   "version": "3.6.3"
  }
 },
 "nbformat": 4,
 "nbformat_minor": 2
}
