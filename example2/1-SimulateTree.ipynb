{
 "cells": [
  {
   "cell_type": "markdown",
   "metadata": {},
   "source": [
    "# Simulate the Tree\n",
    "This notebook simulates a phylogenetic tree under the dual-birth model [(Moshiri & Mirarab, 2017)](https://doi.org/10.1093/sysbio/syx088) and performs some basic analyses of the tree."
   ]
  },
  {
   "cell_type": "markdown",
   "metadata": {},
   "source": [
    "---\n",
    "**Rule 2: Document Your Process, Not Just Results.** Here we describe the steps how to produce the dataset.\n",
    "\n",
    "**Rule 3: Document the Entire Workflow.** This notebook describes the entire workflow, and its modularity makes it easy to change models or model parameters.\n",
    "\n",
    "**Rule 7: Share and Explain Your Data.** To enable reproducibility we provide a `/intermediate_data` directory with files produced by the workflow.\n",
    "\n",
    "---"
   ]
  },
  {
   "cell_type": "markdown",
   "metadata": {},
   "source": [
    "## Define Tree Simulation Parameters\n",
    "The dual-birth model is parameterized by two rates: the \"birth rate\" $\\left(\\lambda_b\\right)$ and the \"activation rate\" $\\left(\\lambda_a\\right)$, where $\\lambda_a\\le\\lambda_b$. We will start by choosing our desired values for these two rates. For our purposes, we will choose the rate estimates for *Alu* elements as found in the original manuscript [(Moshiri & Mirarab, 2017)](https://doi.org/10.1093/sysbio/syx088).\n",
    "\n",
    "Our tree simulations also require an end criterion: either a tree height or a number of leaves. We will specify that we want trees with *n* = 100 leaves.\n",
    "\n",
    "We will also include import statements here to keep the notebook clean and organized."
   ]
  },
  {
   "cell_type": "code",
   "execution_count": 1,
   "metadata": {},
   "outputs": [],
   "source": [
    "OUTPUT_TREE_FILE = \"./intermediate_data/dualbirth.tre\"\n",
    "BIRTH_RATE = 122.03\n",
    "ACTIVATION_RATE = 0.73\n",
    "NUM_LEAVES = 100"
   ]
  },
  {
   "cell_type": "code",
   "execution_count": 2,
   "metadata": {},
   "outputs": [],
   "source": [
    "import matplotlib.pyplot as plt\n",
    "from seaborn import distplot\n",
    "from treesap import dualbirth_tree"
   ]
  },
  {
   "cell_type": "markdown",
   "metadata": {},
   "source": [
    "## Simulate the Tree\n",
    "We can now use [TreeSAP](https://github.com/niemasd/TreeSAP) to simulate the tree, which will return a [TreeSwift](https://github.com/niemasd/TreeSwift) `Tree` object."
   ]
  },
  {
   "cell_type": "code",
   "execution_count": 3,
   "metadata": {},
   "outputs": [],
   "source": [
    "tree = dualbirth_tree(Lb=BIRTH_RATE, La=ACTIVATION_RATE, end_num_leaves=NUM_LEAVES)"
   ]
  },
  {
   "cell_type": "markdown",
   "metadata": {},
   "source": [
    "## Explore the Tree\n",
    "Now that we've simulated our tree, we can begin to explore its properties and statistics. For example, consider the following questions:\n",
    "* How many lineages exist at any given \"time\" (where \"time\" is measured in unit of \"expected number of per-site mutations\")?\n",
    "* What is the branch length distribution? What about just internal branches? What about just terminal branches?\n",
    "* What is the height? Diameter?\n",
    "* What is the average branch length? Internal branch length? Terminal branch length?\n",
    "* What is the Colless balance index? Sackin balance index? Gamma statistic? Treeness?"
   ]
  },
  {
   "cell_type": "code",
   "execution_count": 4,
   "metadata": {},
   "outputs": [
    {
     "data": {
      "image/png": "[encoded data removed]",
      "text/plain": [
       "<Figure size 432x288 with 1 Axes>"
      ]
     },
     "metadata": {},
     "output_type": "display_data"
    }
   ],
   "source": [
    "tree.ltt(); plt.show()"
   ]
  },
  {
   "cell_type": "code",
   "execution_count": 5,
   "metadata": {},
   "outputs": [],
   "source": [
    "branch_lengths = dict()\n",
    "branch_lengths['all'] = list(tree.branch_lengths())\n",
    "branch_lengths['internal'] = list(tree.branch_lengths(terminal=False))\n",
    "branch_lengths['terminal'] = list(tree.branch_lengths(internal=False))"
   ]
  },
  {
   "cell_type": "code",
   "execution_count": 6,
   "metadata": {},
   "outputs": [
    {
     "data": {
      "image/png": "[encoded data removed]",
      "text/plain": [
       "<Figure size 432x288 with 1 Axes>"
      ]
     },
     "metadata": {},
     "output_type": "display_data"
    }
   ],
   "source": [
    "colors = {'all':'blue', 'internal':'red', 'terminal':'green'}\n",
    "for k in sorted(branch_lengths.keys()):\n",
    "    distplot(branch_lengths[k], kde=True, hist=False, color=colors[k], label=k.capitalize());\n",
    "plt.title(\"Branch Length Distributions\");\n",
    "plt.xlabel(\"Branch Length\");\n",
    "plt.ylabel(\"Kernel Density Estimate\");"
   ]
  },
  {
   "cell_type": "code",
   "execution_count": 7,
   "metadata": {},
   "outputs": [
    {
     "name": "stdout",
     "output_type": "stream",
     "text": [
      "Average Branch Length: 0.062613\n",
      "Average Internal Branch Length: 0.014028\n",
      "Average Termianl Branch Length: 0.110711\n",
      "Height: 0.353764\n",
      "Diameter: 0.691523\n",
      "Colless Balance Index: 0.549371\n",
      "Sackin Balance Index: 29.510000\n",
      "Gamma Statistic: -7.305710\n",
      "Treeness: 0.111462\n"
     ]
    }
   ],
   "source": [
    "print(\"Average Branch Length: %f\" % tree.avg_branch_length())\n",
    "print(\"Average Internal Branch Length: %f\" % tree.avg_branch_length(terminal=False))\n",
    "print(\"Average Termianl Branch Length: %f\" % tree.avg_branch_length(internal=False))\n",
    "print(\"Height: %f\" % tree.height())\n",
    "print(\"Diameter: %f\" % tree.diameter())\n",
    "print(\"Colless Balance Index: %f\" % tree.colless())\n",
    "print(\"Sackin Balance Index: %f\" % tree.sackin())\n",
    "print(\"Gamma Statistic: %f\" % tree.gamma_statistic())\n",
    "print(\"Treeness: %f\" % tree.treeness())"
   ]
  },
  {
   "cell_type": "markdown",
   "metadata": {},
   "source": [
    "## Save Dataset\n",
    "Now that we have finished exploring our tree, we can save it in the Newick format. The tool that we wish to use next doesn't support the \"rooted\" prefix of the Newick format (`[&R]`), so we need to specify to TreeSwift that we wish to omit the \"rooted\" prefix."
   ]
  },
  {
   "cell_type": "code",
   "execution_count": 8,
   "metadata": {},
   "outputs": [],
   "source": [
    "tree.write_tree_newick(OUTPUT_TREE_FILE, hide_rooted_prefix=True)"
   ]
  },
  {
   "cell_type": "markdown",
   "metadata": {},
   "source": [
    "## Next step\n",
    "After you saved the dataset here, go back to the [0-Workflow.ipynb](./0-Workflow.ipynb) to run the next step of the analysis."
   ]
  },
  {
   "cell_type": "markdown",
   "metadata": {},
   "source": [
    "---\n",
    "\n",
    "**Author:** [Niema Moshiri](https://niema.net/), UC San Diego, October 2, 2018\n",
    "\n",
    "---"
   ]
  }
 ],
 "metadata": {
  "kernelspec": {
   "display_name": "Python 3",
   "language": "python",
   "name": "python3"
  },
  "language_info": {
   "codemirror_mode": {
    "name": "ipython",
    "version": 3
   },
   "file_extension": ".py",
   "mimetype": "text/x-python",
   "name": "python",
   "nbconvert_exporter": "python",
   "pygments_lexer": "ipython3",
   "version": "3.7.0"
  }
 },
 "nbformat": 4,
 "nbformat_minor": 2
}
