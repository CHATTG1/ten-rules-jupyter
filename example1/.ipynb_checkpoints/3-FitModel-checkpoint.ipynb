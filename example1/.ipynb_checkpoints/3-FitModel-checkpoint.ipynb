{
 "cells": [
  {
   "cell_type": "markdown",
   "metadata": {},
   "source": [
    "# Fit Model\n"
   ]
  },
  {
   "cell_type": "code",
   "execution_count": 146,
   "metadata": {},
   "outputs": [],
   "source": [
    "import pandas as pd\n",
    "import mlutils\n",
    "from sklearn import svm, metrics\n",
    "from sklearn.linear_model import LogisticRegression\n",
    "from sklearn.ensemble import RandomForestClassifier\n",
    "from sklearn.model_selection import train_test_split"
   ]
  },
  {
   "cell_type": "code",
   "execution_count": 147,
   "metadata": {},
   "outputs": [],
   "source": [
    "# column names\n",
    "feature_col = \"features\" # feature vector\n",
    "value_col = \"foldType\" # fold type to be predicted"
   ]
  },
  {
   "cell_type": "markdown",
   "metadata": {},
   "source": [
    "### Read data set with fold type classifications and feature vectors"
   ]
  },
  {
   "cell_type": "code",
   "execution_count": 148,
   "metadata": {},
   "outputs": [],
   "source": [
    "df = pd.read_json(\"./features.json\")"
   ]
  },
  {
   "cell_type": "code",
   "execution_count": 149,
   "metadata": {},
   "outputs": [
    {
     "name": "stdout",
     "output_type": "stream",
     "text": [
      "Total number of data: 10713\n"
     ]
    },
    {
     "data": {
      "text/html": [
       "<div>\n",
       "<style scoped>\n",
       "    .dataframe tbody tr th:only-of-type {\n",
       "        vertical-align: middle;\n",
       "    }\n",
       "\n",
       "    .dataframe tbody tr th {\n",
       "        vertical-align: top;\n",
       "    }\n",
       "\n",
       "    .dataframe thead th {\n",
       "        text-align: right;\n",
       "    }\n",
       "</style>\n",
       "<table border=\"1\" class=\"dataframe\">\n",
       "  <thead>\n",
       "    <tr style=\"text-align: right;\">\n",
       "      <th></th>\n",
       "      <th>Exptl.</th>\n",
       "      <th>FreeRvalue</th>\n",
       "      <th>R-factor</th>\n",
       "      <th>alpha</th>\n",
       "      <th>beta</th>\n",
       "      <th>coil</th>\n",
       "      <th>features</th>\n",
       "      <th>foldType</th>\n",
       "      <th>length</th>\n",
       "      <th>ngram</th>\n",
       "      <th>pdbChainId</th>\n",
       "      <th>resolution</th>\n",
       "      <th>secondary_structure</th>\n",
       "      <th>sequence</th>\n",
       "    </tr>\n",
       "  </thead>\n",
       "  <tbody>\n",
       "    <tr>\n",
       "      <th>0</th>\n",
       "      <td>XRAY</td>\n",
       "      <td>0.29</td>\n",
       "      <td>0.16</td>\n",
       "      <td>0.345455</td>\n",
       "      <td>0.206061</td>\n",
       "      <td>0.448485</td>\n",
       "      <td>[-0.2495497023, 0.0835027742, -0.2646374465, 0...</td>\n",
       "      <td>alpha+beta</td>\n",
       "      <td>330</td>\n",
       "      <td>[MK, KT, TA, AY, YI, IA, AK, KQ, QR, RQ, QI, I...</td>\n",
       "      <td>12AS.A</td>\n",
       "      <td>2.2</td>\n",
       "      <td>CCCCHHHHHHHHHHHHHHHHHHHHHHHCEEECCCCSEEETTSSCSC...</td>\n",
       "      <td>MKTAYIAKQRQISFVKSHFSRQLEERLGLIEVQAPILSRVGDGTQD...</td>\n",
       "    </tr>\n",
       "    <tr>\n",
       "      <th>1</th>\n",
       "      <td>XRAY</td>\n",
       "      <td>0.26</td>\n",
       "      <td>0.19</td>\n",
       "      <td>0.469945</td>\n",
       "      <td>0.046448</td>\n",
       "      <td>0.483607</td>\n",
       "      <td>[-0.5319030737, 0.1313498868, -0.5293261122, 0...</td>\n",
       "      <td>alpha</td>\n",
       "      <td>366</td>\n",
       "      <td>[SR, RM, MP, PS, SP, PP, PM, MP, PV, VP, PP, P...</td>\n",
       "      <td>16VP.A</td>\n",
       "      <td>2.1</td>\n",
       "      <td>CCSCCCCCCCCHHHHHHHHHHHHTCTTHHHHHHHHHHCCCCCSTTS...</td>\n",
       "      <td>SRMPSPPMPVPPAALFNRLLDDLGFSAGPALCTMLDTWNEDLFSAL...</td>\n",
       "    </tr>\n",
       "  </tbody>\n",
       "</table>\n",
       "</div>"
      ],
      "text/plain": [
       "  Exptl.  FreeRvalue  R-factor     alpha      beta      coil  \\\n",
       "0   XRAY        0.29      0.16  0.345455  0.206061  0.448485   \n",
       "1   XRAY        0.26      0.19  0.469945  0.046448  0.483607   \n",
       "\n",
       "                                            features    foldType  length  \\\n",
       "0  [-0.2495497023, 0.0835027742, -0.2646374465, 0...  alpha+beta     330   \n",
       "1  [-0.5319030737, 0.1313498868, -0.5293261122, 0...       alpha     366   \n",
       "\n",
       "                                               ngram pdbChainId  resolution  \\\n",
       "0  [MK, KT, TA, AY, YI, IA, AK, KQ, QR, RQ, QI, I...     12AS.A         2.2   \n",
       "1  [SR, RM, MP, PS, SP, PP, PM, MP, PV, VP, PP, P...     16VP.A         2.1   \n",
       "\n",
       "                                 secondary_structure  \\\n",
       "0  CCCCHHHHHHHHHHHHHHHHHHHHHHHCEEECCCCSEEETTSSCSC...   \n",
       "1  CCSCCCCCCCCHHHHHHHHHHHHTCTTHHHHHHHHHHCCCCCSTTS...   \n",
       "\n",
       "                                            sequence  \n",
       "0  MKTAYIAKQRQISFVKSHFSRQLEERLGLIEVQAPILSRVGDGTQD...  \n",
       "1  SRMPSPPMPVPPAALFNRLLDDLGFSAGPALCTMLDTWNEDLFSAL...  "
      ]
     },
     "execution_count": 149,
     "metadata": {},
     "output_type": "execute_result"
    }
   ],
   "source": [
    "print(\"Total number of data:\", df.shape[0])\n",
    "df.head(2)"
   ]
  },
  {
   "cell_type": "markdown",
   "metadata": {},
   "source": [
    "## Balance dataset"
   ]
  },
  {
   "cell_type": "markdown",
   "metadata": {},
   "source": [
    "This dataset if highly imbalanced. The alpha+beta class is over-represented and the beta class is underrepresented."
   ]
  },
  {
   "cell_type": "code",
   "execution_count": 150,
   "metadata": {},
   "outputs": [
    {
     "data": {
      "text/plain": [
       "alpha+beta    7030\n",
       "alpha         2810\n",
       "beta           873\n",
       "Name: foldType, dtype: int64"
      ]
     },
     "execution_count": 150,
     "metadata": {},
     "output_type": "execute_result"
    }
   ],
   "source": [
    "df[value_col].value_counts()"
   ]
  },
  {
   "cell_type": "markdown",
   "metadata": {},
   "source": [
    "Here we balance the dataset by downsampling the over-represented classes. Samples are randomly choose from the over-represented classes. We use a fixed random number seed so the downsampling step is reproducible."
   ]
  },
  {
   "cell_type": "code",
   "execution_count": 151,
   "metadata": {},
   "outputs": [
    {
     "data": {
      "text/plain": [
       "alpha         873\n",
       "alpha+beta    873\n",
       "beta          873\n",
       "Name: foldType, dtype: int64"
      ]
     },
     "execution_count": 151,
     "metadata": {},
     "output_type": "execute_result"
    }
   ],
   "source": [
    "df = mlutils.downsample(df, value_col, seed=13)\n",
    "df[value_col].value_counts()"
   ]
  },
  {
   "cell_type": "markdown",
   "metadata": {},
   "source": [
    "## Split dataset into a training and test set"
   ]
  },
  {
   "cell_type": "code",
   "execution_count": 152,
   "metadata": {},
   "outputs": [
    {
     "name": "stdout",
     "output_type": "stream",
     "text": [
      "Train set size: 1754\n",
      "beta          585\n",
      "alpha         585\n",
      "alpha+beta    584\n",
      "Name: foldType, dtype: int64\n",
      "\n",
      "Test set size: 865\n",
      "alpha+beta    289\n",
      "alpha         288\n",
      "beta          288\n",
      "Name: foldType, dtype: int64\n"
     ]
    },
    {
     "data": {
      "text/html": [
       "<div>\n",
       "<style scoped>\n",
       "    .dataframe tbody tr th:only-of-type {\n",
       "        vertical-align: middle;\n",
       "    }\n",
       "\n",
       "    .dataframe tbody tr th {\n",
       "        vertical-align: top;\n",
       "    }\n",
       "\n",
       "    .dataframe thead th {\n",
       "        text-align: right;\n",
       "    }\n",
       "</style>\n",
       "<table border=\"1\" class=\"dataframe\">\n",
       "  <thead>\n",
       "    <tr style=\"text-align: right;\">\n",
       "      <th></th>\n",
       "      <th>Exptl.</th>\n",
       "      <th>FreeRvalue</th>\n",
       "      <th>R-factor</th>\n",
       "      <th>alpha</th>\n",
       "      <th>beta</th>\n",
       "      <th>coil</th>\n",
       "      <th>features</th>\n",
       "      <th>foldType</th>\n",
       "      <th>length</th>\n",
       "      <th>ngram</th>\n",
       "      <th>pdbChainId</th>\n",
       "      <th>resolution</th>\n",
       "      <th>secondary_structure</th>\n",
       "      <th>sequence</th>\n",
       "    </tr>\n",
       "  </thead>\n",
       "  <tbody>\n",
       "    <tr>\n",
       "      <th>7859</th>\n",
       "      <td>XRAY</td>\n",
       "      <td>0.25</td>\n",
       "      <td>0.20</td>\n",
       "      <td>0.046729</td>\n",
       "      <td>0.504673</td>\n",
       "      <td>0.448598</td>\n",
       "      <td>[0.280127216, 0.2788771188, 0.3268065242, -0.2...</td>\n",
       "      <td>beta</td>\n",
       "      <td>321</td>\n",
       "      <td>[GP, PA, AM, MA, AK, KV, VE, ET, TG, GT, TD, D...</td>\n",
       "      <td>4B60.A</td>\n",
       "      <td>1.83</td>\n",
       "      <td>CCCCCCCCCCCBCGGGEEEEEEEEECGGGSSEECTTBTCCEEEEEE...</td>\n",
       "      <td>GPAMAKVETGTDVTSKVTVEIGSIEGHNNTNKVEPHAGQRAVLKYK...</td>\n",
       "    </tr>\n",
       "    <tr>\n",
       "      <th>2153</th>\n",
       "      <td>XRAY</td>\n",
       "      <td>0.24</td>\n",
       "      <td>0.20</td>\n",
       "      <td>0.000000</td>\n",
       "      <td>0.322581</td>\n",
       "      <td>0.677419</td>\n",
       "      <td>[0.17793432080000002, 0.1675335149, -0.1628066...</td>\n",
       "      <td>beta</td>\n",
       "      <td>31</td>\n",
       "      <td>[LN, NW, WK, KQ, QD, DS, SN, NP, PL, LY, YK, K...</td>\n",
       "      <td>2BRQ.C</td>\n",
       "      <td>2.10</td>\n",
       "      <td>CCCCCCCCCEEEEEEEEEECCCCCCCCCCCC</td>\n",
       "      <td>LNWKQDSNPLYKSAITTTINPRFQEADSPTL</td>\n",
       "    </tr>\n",
       "    <tr>\n",
       "      <th>955</th>\n",
       "      <td>XRAY</td>\n",
       "      <td>0.23</td>\n",
       "      <td>0.20</td>\n",
       "      <td>0.427966</td>\n",
       "      <td>0.241525</td>\n",
       "      <td>0.330508</td>\n",
       "      <td>[-0.3754705553, 0.3793691515, -0.1850020237000...</td>\n",
       "      <td>alpha+beta</td>\n",
       "      <td>236</td>\n",
       "      <td>[MS, SS, SG, GK, KV, VI, IV, VY, YG, GG, GK, K...</td>\n",
       "      <td>1OOE.B</td>\n",
       "      <td>1.65</td>\n",
       "      <td>CCCEEEEEETTTSHHHHHHHHHHHHTTEEEEEEESSCCTTSSEEEE...</td>\n",
       "      <td>MSSGKVIVYGGKGALGSAILEFFKKNGYTVLNIDLSANDQADSNIL...</td>\n",
       "    </tr>\n",
       "    <tr>\n",
       "      <th>10080</th>\n",
       "      <td>XRAY</td>\n",
       "      <td>0.15</td>\n",
       "      <td>0.12</td>\n",
       "      <td>0.032787</td>\n",
       "      <td>0.524590</td>\n",
       "      <td>0.442623</td>\n",
       "      <td>[-0.132369233, -0.1602751852, 0.2213762665, 0....</td>\n",
       "      <td>beta</td>\n",
       "      <td>122</td>\n",
       "      <td>[GA, AL, LT, TT, TS, ST, TR, RQ, QG, GS, SR, R...</td>\n",
       "      <td>4UE0.B</td>\n",
       "      <td>1.17</td>\n",
       "      <td>CCCCCCCCEEEEEEEETTEEEEEEEEEECCSSCEEEEEEECCBCCS...</td>\n",
       "      <td>GALTTSTRQGSRVVGFMDFIIALGWQIIPSNIRYIYILNCSQFMPT...</td>\n",
       "    </tr>\n",
       "    <tr>\n",
       "      <th>3316</th>\n",
       "      <td>XRAY</td>\n",
       "      <td>0.28</td>\n",
       "      <td>0.22</td>\n",
       "      <td>0.312977</td>\n",
       "      <td>0.183206</td>\n",
       "      <td>0.503817</td>\n",
       "      <td>[-0.0105258504, 0.2580042248, -0.1107736493, -...</td>\n",
       "      <td>alpha+beta</td>\n",
       "      <td>262</td>\n",
       "      <td>[MQ, QK, KR, RV, VT, TD, DE, EE, EI, IK, KE, E...</td>\n",
       "      <td>2PH1.A</td>\n",
       "      <td>2.70</td>\n",
       "      <td>CCCCCCHHHHHHHHTTCSCEEEEECSSSCTTHHHHHHHHHHHHHHT...</td>\n",
       "      <td>MQKRVTDEEIKERLGKIKSRIAVMSGKGGVGKSTVTALLAVHYARQ...</td>\n",
       "    </tr>\n",
       "  </tbody>\n",
       "</table>\n",
       "</div>"
      ],
      "text/plain": [
       "      Exptl.  FreeRvalue  R-factor     alpha      beta      coil  \\\n",
       "7859    XRAY        0.25      0.20  0.046729  0.504673  0.448598   \n",
       "2153    XRAY        0.24      0.20  0.000000  0.322581  0.677419   \n",
       "955     XRAY        0.23      0.20  0.427966  0.241525  0.330508   \n",
       "10080   XRAY        0.15      0.12  0.032787  0.524590  0.442623   \n",
       "3316    XRAY        0.28      0.22  0.312977  0.183206  0.503817   \n",
       "\n",
       "                                                features    foldType  length  \\\n",
       "7859   [0.280127216, 0.2788771188, 0.3268065242, -0.2...        beta     321   \n",
       "2153   [0.17793432080000002, 0.1675335149, -0.1628066...        beta      31   \n",
       "955    [-0.3754705553, 0.3793691515, -0.1850020237000...  alpha+beta     236   \n",
       "10080  [-0.132369233, -0.1602751852, 0.2213762665, 0....        beta     122   \n",
       "3316   [-0.0105258504, 0.2580042248, -0.1107736493, -...  alpha+beta     262   \n",
       "\n",
       "                                                   ngram pdbChainId  \\\n",
       "7859   [GP, PA, AM, MA, AK, KV, VE, ET, TG, GT, TD, D...     4B60.A   \n",
       "2153   [LN, NW, WK, KQ, QD, DS, SN, NP, PL, LY, YK, K...     2BRQ.C   \n",
       "955    [MS, SS, SG, GK, KV, VI, IV, VY, YG, GG, GK, K...     1OOE.B   \n",
       "10080  [GA, AL, LT, TT, TS, ST, TR, RQ, QG, GS, SR, R...     4UE0.B   \n",
       "3316   [MQ, QK, KR, RV, VT, TD, DE, EE, EI, IK, KE, E...     2PH1.A   \n",
       "\n",
       "       resolution                                secondary_structure  \\\n",
       "7859         1.83  CCCCCCCCCCCBCGGGEEEEEEEEECGGGSSEECTTBTCCEEEEEE...   \n",
       "2153         2.10                    CCCCCCCCCEEEEEEEEEECCCCCCCCCCCC   \n",
       "955          1.65  CCCEEEEEETTTSHHHHHHHHHHHHTTEEEEEEESSCCTTSSEEEE...   \n",
       "10080        1.17  CCCCCCCCEEEEEEEETTEEEEEEEEEECCSSCEEEEEEECCBCCS...   \n",
       "3316         2.70  CCCCCCHHHHHHHHTTCSCEEEEECSSSCTTHHHHHHHHHHHHHHT...   \n",
       "\n",
       "                                                sequence  \n",
       "7859   GPAMAKVETGTDVTSKVTVEIGSIEGHNNTNKVEPHAGQRAVLKYK...  \n",
       "2153                     LNWKQDSNPLYKSAITTTINPRFQEADSPTL  \n",
       "955    MSSGKVIVYGGKGALGSAILEFFKKNGYTVLNIDLSANDQADSNIL...  \n",
       "10080  GALTTSTRQGSRVVGFMDFIIALGWQIIPSNIRYIYILNCSQFMPT...  \n",
       "3316   MQKRVTDEEIKERLGKIKSRIAVMSGKGGVGKSTVTALLAVHYARQ...  "
      ]
     },
     "execution_count": 152,
     "metadata": {},
     "output_type": "execute_result"
    }
   ],
   "source": [
    "train, test = train_test_split(df, test_size=0.33, random_state=13, stratify=df[value_col])\n",
    "print(\"Train set size:\", train.shape[0])\n",
    "print(train[value_col].value_counts())\n",
    "print()\n",
    "print(\"Test set size:\", test.shape[0])\n",
    "print(test[value_col].value_counts())\n",
    "train.head()"
   ]
  },
  {
   "cell_type": "markdown",
   "metadata": {},
   "source": [
    "## Train a classifier"
   ]
  },
  {
   "cell_type": "code",
   "execution_count": 153,
   "metadata": {},
   "outputs": [
    {
     "data": {
      "text/plain": [
       "SVC(C=1.0, cache_size=200, class_weight=None, coef0=0.0,\n",
       "  decision_function_shape='ovr', degree=3, gamma='auto', kernel='rbf',\n",
       "  max_iter=-1, probability=False, random_state=None, shrinking=True,\n",
       "  tol=0.001, verbose=False)"
      ]
     },
     "execution_count": 153,
     "metadata": {},
     "output_type": "execute_result"
    }
   ],
   "source": [
    "classifier = svm.SVC()\n",
    "#classifier = LogisticRegression()\n",
    "#classifier = RandomForestClassifier()\n",
    "\n",
    "classifier.fit(train[feature_col].tolist(), train[value_col].tolist())"
   ]
  },
  {
   "cell_type": "markdown",
   "metadata": {},
   "source": [
    "## Make prediction for test set"
   ]
  },
  {
   "cell_type": "code",
   "execution_count": 154,
   "metadata": {},
   "outputs": [],
   "source": [
    "predicted = classifier.predict(test[feature_col].tolist())\n",
    "expected = test[value_col].tolist()"
   ]
  },
  {
   "cell_type": "markdown",
   "metadata": {},
   "source": [
    "## Calculate metrics for test set"
   ]
  },
  {
   "cell_type": "code",
   "execution_count": 155,
   "metadata": {},
   "outputs": [
    {
     "name": "stdout",
     "output_type": "stream",
     "text": [
      "Classification metrics:\n",
      "\n",
      "             precision    recall  f1-score   support\n",
      "\n",
      "      alpha       0.78      0.60      0.68       288\n",
      " alpha+beta       0.58      0.73      0.64       289\n",
      "       beta       0.81      0.79      0.80       288\n",
      "\n",
      "avg / total       0.72      0.70      0.71       865\n",
      "\n"
     ]
    },
    {
     "data": {
      "image/png": "[encoded data removed]",
      "text/plain": [
       "<Figure size 576x432 with 2 Axes>"
      ]
     },
     "metadata": {},
     "output_type": "display_data"
    }
   ],
   "source": [
    "cm = metrics.confusion_matrix(expected, predicted)\n",
    "print(\"Classification metrics:\\n\")\n",
    "print(metrics.classification_report(expected, predicted))\n",
    "mlutils.plot_confusion_matrix(cm, classifier.classes_, normalize=False)"
   ]
  },
  {
   "cell_type": "code",
   "execution_count": null,
   "metadata": {},
   "outputs": [],
   "source": []
  },
  {
   "cell_type": "code",
   "execution_count": null,
   "metadata": {},
   "outputs": [],
   "source": []
  },
  {
   "cell_type": "code",
   "execution_count": null,
   "metadata": {},
   "outputs": [],
   "source": []
  },
  {
   "cell_type": "code",
   "execution_count": null,
   "metadata": {},
   "outputs": [],
   "source": []
  }
 ],
 "metadata": {
  "kernelspec": {
   "display_name": "Python 3",
   "language": "python",
   "name": "python3"
  },
  "language_info": {
   "codemirror_mode": {
    "name": "ipython",
    "version": 3
   },
   "file_extension": ".py",
   "mimetype": "text/x-python",
   "name": "python",
   "nbconvert_exporter": "python",
   "pygments_lexer": "ipython3",
   "version": "3.6.3"
  }
 },
 "nbformat": 4,
 "nbformat_minor": 2
}
