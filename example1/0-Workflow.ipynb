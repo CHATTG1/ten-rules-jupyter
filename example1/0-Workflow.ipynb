{
 "cells": [
  {
   "cell_type": "markdown",
   "metadata": {},
   "source": [
    "# Predict Fold Type of a Protein from Protein Sequence"
   ]
  },
  {
   "cell_type": "markdown",
   "metadata": {},
   "source": [
    "**The notebooks in this directory were developed to demonstrate the \"Ten Rules for Reproducible Research with Jupyter Notebooks\". Throughout the notebooks we mention the rules we applied.**\n",
    "\n",
    "**For example, this notebook demonstrates:**\n",
    "\n",
    "---\n",
    "\n",
    "**Rule 1: Tell a Story for a Specific Audience.** This notebook was developed for biologists to learn how to apply a simple machine learning model to protein sequences.\n",
    "\n",
    "**Rule 3: Document the Entire Workflow.** This top-level notebook links to 3 notebooks that represent the steps of a workflow. This modularity makes it easy to replace one of the 3 steps, for example, use a different method to calculate features or apply a differnt machine learning model.\n",
    "\n",
    "---"
   ]
  },
  {
   "cell_type": "markdown",
   "metadata": {},
   "source": [
    "## Introduction"
   ]
  },
  {
   "cell_type": "markdown",
   "metadata": {},
   "source": [
    "Protein chains fold in regular patterns. Secondary structure describes the geometry of segments of a protein chain. The most common secondary structure elements are\n",
    "* Alpha helices\n",
    "* Beta sheets"
   ]
  },
  {
   "cell_type": "markdown",
   "metadata": {},
   "source": [
    "We can classify proteins into three major fold types based on their predominant secondary structure content\n",
    "* alpha: contains predominantly alpha helices\n",
    "* beta: contains predominantly beta sheets\n",
    "* alpha+beta: contains both alpha helices and beta sheets"
   ]
  },
  {
   "cell_type": "markdown",
   "metadata": {},
   "source": [
    "## Goal\n",
    "This notebook serves as an example of using machine learning techniques applied to protein sequences. The goal is to create a simple machine learning model to predict the fold type of a protein given its protein sequence. We train the model on a representative set of 3D structure from the Protein Data Bank.\n",
    "\n",
    "Run the following notebooks to work through this example."
   ]
  },
  {
   "cell_type": "markdown",
   "metadata": {},
   "source": [
    "## 1. Create Dataset"
   ]
  },
  {
   "cell_type": "markdown",
   "metadata": {},
   "source": [
    "First, we need to create a dataset with protein secondary structure information obtained from 3D protein chains.\n",
    "\n",
    "Run the following notebook to extract secondary structure information from a representative set of protein chains downloaded from the RCSB Protein Data Bank and assign a fold type to each protein chain."
   ]
  },
  {
   "cell_type": "markdown",
   "metadata": {},
   "source": [
    "[1-CreateDataset.ipynb](./1-CreateDataset.ipynb)"
   ]
  },
  {
   "cell_type": "markdown",
   "metadata": {},
   "source": [
    "The notebook saves the dataset in the file `secondaryStructure.json`."
   ]
  },
  {
   "cell_type": "markdown",
   "metadata": {},
   "source": [
    "## 2. Calculate Features"
   ]
  },
  {
   "cell_type": "markdown",
   "metadata": {},
   "source": [
    "Protein sequences cannot be directly used for machine learning. Here use the Word2vec method to calculate a fixed size feature vector for each protein sequence.\n",
    "\n",
    "Run the following notebook to calculate feature vectors. "
   ]
  },
  {
   "cell_type": "markdown",
   "metadata": {},
   "source": [
    "[2-CalculateFeatures.ipynb](./2-CalculateFeatures.ipynb)"
   ]
  },
  {
   "cell_type": "markdown",
   "metadata": {},
   "source": [
    "The notebook saves the dateset in the file `features.json`."
   ]
  },
  {
   "cell_type": "markdown",
   "metadata": {},
   "source": [
    "## 3. Fit a Model"
   ]
  },
  {
   "cell_type": "markdown",
   "metadata": {},
   "source": [
    "Next, we fit a 3-state classification model using the feature vectors as inputs and the known fold types from the Protein Data Bank dataset.\n",
    "\n",
    "Run the following notebook to fit a machine learning model on a training set and evaluate its performance on a test set."
   ]
  },
  {
   "cell_type": "markdown",
   "metadata": {},
   "source": [
    "[3-FitModel.ipynb](./3-FitModel.ipynb)"
   ]
  },
  {
   "cell_type": "markdown",
   "metadata": {},
   "source": [
    "## Version and Hardware Information"
   ]
  },
  {
   "cell_type": "markdown",
   "metadata": {},
   "source": [
    "---\n",
    "\n",
    "**Rule 6: Make Your Dependencies Explicit in the Notebook Itself.** Here we use the watermark extension to print software, operating system, and hardware version information.\n",
    "\n",
    "---"
   ]
  },
  {
   "cell_type": "code",
   "execution_count": 3,
   "metadata": {},
   "outputs": [
    {
     "name": "stdout",
     "output_type": "stream",
     "text": [
      "CPython 3.6.3\n",
      "IPython 6.3.1\n",
      "\n",
      "gensim 3.6.0\n",
      "matplotlib 2.2.2\n",
      "numpy 1.14.5\n",
      "pandas 0.22.0\n",
      "sklearn 0.19.1\n",
      "\n",
      "compiler   : GCC 4.2.1 Compatible Clang 4.0.1 (tags/RELEASE_401/final)\n",
      "system     : Darwin\n",
      "release    : 17.5.0\n",
      "machine    : x86_64\n",
      "processor  : i386\n",
      "CPU cores  : 4\n",
      "interpreter: 64bit\n",
      "Git hash   : ed645b92f9b003a3aaf36d7f1f4f15cf04804fe7\n",
      "Git repo   : https://github.com/pwrose/ten-rules-jupyter.git\n"
     ]
    }
   ],
   "source": [
    "%load_ext watermark\n",
    "%watermark -v -m -p gensim,matplotlib,numpy,pandas,sklearn -r -g"
   ]
  },
  {
   "cell_type": "code",
   "execution_count": null,
   "metadata": {},
   "outputs": [],
   "source": []
  }
 ],
 "metadata": {
  "kernelspec": {
   "display_name": "Python 3",
   "language": "python",
   "name": "python3"
  },
  "language_info": {
   "codemirror_mode": {
    "name": "ipython",
    "version": 3
   },
   "file_extension": ".py",
   "mimetype": "text/x-python",
   "name": "python",
   "nbconvert_exporter": "python",
   "pygments_lexer": "ipython3",
   "version": "3.6.3"
  }
 },
 "nbformat": 4,
 "nbformat_minor": 2
}
