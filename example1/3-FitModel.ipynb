{
 "cells": [
  {
   "cell_type": "markdown",
   "metadata": {},
   "source": [
    "# Fit Model\n"
   ]
  },
  {
   "cell_type": "code",
   "execution_count": 1,
   "metadata": {},
   "outputs": [],
   "source": [
    "import pandas as pd\n",
    "import mlutils\n",
    "from sklearn import svm, metrics\n",
    "from sklearn.linear_model import LogisticRegression\n",
    "from sklearn.ensemble import RandomForestClassifier\n",
    "from sklearn.model_selection import train_test_split"
   ]
  },
  {
   "cell_type": "code",
   "execution_count": 2,
   "metadata": {},
   "outputs": [],
   "source": [
    "# column names\n",
    "feature_col = \"features\" # feature vector\n",
    "value_col = \"foldType\" # fold type to be predicted"
   ]
  },
  {
   "cell_type": "markdown",
   "metadata": {},
   "source": [
    "### Read data set with fold type classifications and feature vectors"
   ]
  },
  {
   "cell_type": "code",
   "execution_count": 3,
   "metadata": {},
   "outputs": [],
   "source": [
    "df = pd.read_json(\"./features.json\")"
   ]
  },
  {
   "cell_type": "code",
   "execution_count": 4,
   "metadata": {},
   "outputs": [
    {
     "name": "stdout",
     "output_type": "stream",
     "text": [
      "Total number of data: 10713\n"
     ]
    },
    {
     "data": {
      "text/html": [
       "<div>\n",
       "<style scoped>\n",
       "    .dataframe tbody tr th:only-of-type {\n",
       "        vertical-align: middle;\n",
       "    }\n",
       "\n",
       "    .dataframe tbody tr th {\n",
       "        vertical-align: top;\n",
       "    }\n",
       "\n",
       "    .dataframe thead th {\n",
       "        text-align: right;\n",
       "    }\n",
       "</style>\n",
       "<table border=\"1\" class=\"dataframe\">\n",
       "  <thead>\n",
       "    <tr style=\"text-align: right;\">\n",
       "      <th></th>\n",
       "      <th>Exptl.</th>\n",
       "      <th>FreeRvalue</th>\n",
       "      <th>R-factor</th>\n",
       "      <th>alpha</th>\n",
       "      <th>beta</th>\n",
       "      <th>coil</th>\n",
       "      <th>features</th>\n",
       "      <th>foldType</th>\n",
       "      <th>length</th>\n",
       "      <th>ngram</th>\n",
       "      <th>pdbChainId</th>\n",
       "      <th>resolution</th>\n",
       "      <th>secondary_structure</th>\n",
       "      <th>sequence</th>\n",
       "    </tr>\n",
       "  </thead>\n",
       "  <tbody>\n",
       "    <tr>\n",
       "      <th>0</th>\n",
       "      <td>XRAY</td>\n",
       "      <td>0.29</td>\n",
       "      <td>0.16</td>\n",
       "      <td>0.345455</td>\n",
       "      <td>0.206061</td>\n",
       "      <td>0.448485</td>\n",
       "      <td>[0.070844379, -0.050816530900000004, -0.191118...</td>\n",
       "      <td>alpha+beta</td>\n",
       "      <td>330</td>\n",
       "      <td>[MK, KT, TA, AY, YI, IA, AK, KQ, QR, RQ, QI, I...</td>\n",
       "      <td>12AS.A</td>\n",
       "      <td>2.2</td>\n",
       "      <td>CCCCHHHHHHHHHHHHHHHHHHHHHHHCEEECCCCSEEETTSSCSC...</td>\n",
       "      <td>MKTAYIAKQRQISFVKSHFSRQLEERLGLIEVQAPILSRVGDGTQD...</td>\n",
       "    </tr>\n",
       "    <tr>\n",
       "      <th>1</th>\n",
       "      <td>XRAY</td>\n",
       "      <td>0.26</td>\n",
       "      <td>0.19</td>\n",
       "      <td>0.469945</td>\n",
       "      <td>0.046448</td>\n",
       "      <td>0.483607</td>\n",
       "      <td>[0.11704757930000001, 0.14817539700000001, -0....</td>\n",
       "      <td>alpha</td>\n",
       "      <td>366</td>\n",
       "      <td>[SR, RM, MP, PS, SP, PP, PM, MP, PV, VP, PP, P...</td>\n",
       "      <td>16VP.A</td>\n",
       "      <td>2.1</td>\n",
       "      <td>CCSCCCCCCCCHHHHHHHHHHHHTCTTHHHHHHHHHHCCCCCSTTS...</td>\n",
       "      <td>SRMPSPPMPVPPAALFNRLLDDLGFSAGPALCTMLDTWNEDLFSAL...</td>\n",
       "    </tr>\n",
       "  </tbody>\n",
       "</table>\n",
       "</div>"
      ],
      "text/plain": [
       "  Exptl.  FreeRvalue  R-factor     alpha      beta      coil  \\\n",
       "0   XRAY        0.29      0.16  0.345455  0.206061  0.448485   \n",
       "1   XRAY        0.26      0.19  0.469945  0.046448  0.483607   \n",
       "\n",
       "                                            features    foldType  length  \\\n",
       "0  [0.070844379, -0.050816530900000004, -0.191118...  alpha+beta     330   \n",
       "1  [0.11704757930000001, 0.14817539700000001, -0....       alpha     366   \n",
       "\n",
       "                                               ngram pdbChainId  resolution  \\\n",
       "0  [MK, KT, TA, AY, YI, IA, AK, KQ, QR, RQ, QI, I...     12AS.A         2.2   \n",
       "1  [SR, RM, MP, PS, SP, PP, PM, MP, PV, VP, PP, P...     16VP.A         2.1   \n",
       "\n",
       "                                 secondary_structure  \\\n",
       "0  CCCCHHHHHHHHHHHHHHHHHHHHHHHCEEECCCCSEEETTSSCSC...   \n",
       "1  CCSCCCCCCCCHHHHHHHHHHHHTCTTHHHHHHHHHHCCCCCSTTS...   \n",
       "\n",
       "                                            sequence  \n",
       "0  MKTAYIAKQRQISFVKSHFSRQLEERLGLIEVQAPILSRVGDGTQD...  \n",
       "1  SRMPSPPMPVPPAALFNRLLDDLGFSAGPALCTMLDTWNEDLFSAL...  "
      ]
     },
     "execution_count": 4,
     "metadata": {},
     "output_type": "execute_result"
    }
   ],
   "source": [
    "print(\"Total number of data:\", df.shape[0])\n",
    "df.head(2)"
   ]
  },
  {
   "cell_type": "markdown",
   "metadata": {},
   "source": [
    "## Balance dataset"
   ]
  },
  {
   "cell_type": "markdown",
   "metadata": {},
   "source": [
    "This dataset if highly imbalanced. The alpha+beta class is over-represented and the beta class is underrepresented."
   ]
  },
  {
   "cell_type": "code",
   "execution_count": 5,
   "metadata": {},
   "outputs": [
    {
     "data": {
      "text/plain": [
       "alpha+beta    7030\n",
       "alpha         2810\n",
       "beta           873\n",
       "Name: foldType, dtype: int64"
      ]
     },
     "execution_count": 5,
     "metadata": {},
     "output_type": "execute_result"
    }
   ],
   "source": [
    "df[value_col].value_counts()"
   ]
  },
  {
   "cell_type": "markdown",
   "metadata": {},
   "source": [
    "Here we balance the dataset by downsampling the over-represented classes. Samples are randomly choose from the over-represented classes. We use a fixed random number seed so the downsampling step is reproducible."
   ]
  },
  {
   "cell_type": "code",
   "execution_count": 6,
   "metadata": {},
   "outputs": [
    {
     "data": {
      "text/plain": [
       "alpha+beta    873\n",
       "beta          873\n",
       "alpha         873\n",
       "Name: foldType, dtype: int64"
      ]
     },
     "execution_count": 6,
     "metadata": {},
     "output_type": "execute_result"
    }
   ],
   "source": [
    "df = mlutils.downsample(df, value_col, seed=13)\n",
    "df[value_col].value_counts()"
   ]
  },
  {
   "cell_type": "markdown",
   "metadata": {},
   "source": [
    "## Split dataset into a training and test set"
   ]
  },
  {
   "cell_type": "code",
   "execution_count": 7,
   "metadata": {},
   "outputs": [
    {
     "name": "stdout",
     "output_type": "stream",
     "text": [
      "Train set size: 1754\n",
      "alpha         585\n",
      "alpha+beta    585\n",
      "beta          584\n",
      "Name: foldType, dtype: int64\n",
      "\n",
      "Test set size: 865\n",
      "beta          289\n",
      "alpha         288\n",
      "alpha+beta    288\n",
      "Name: foldType, dtype: int64\n"
     ]
    },
    {
     "data": {
      "text/html": [
       "<div>\n",
       "<style scoped>\n",
       "    .dataframe tbody tr th:only-of-type {\n",
       "        vertical-align: middle;\n",
       "    }\n",
       "\n",
       "    .dataframe tbody tr th {\n",
       "        vertical-align: top;\n",
       "    }\n",
       "\n",
       "    .dataframe thead th {\n",
       "        text-align: right;\n",
       "    }\n",
       "</style>\n",
       "<table border=\"1\" class=\"dataframe\">\n",
       "  <thead>\n",
       "    <tr style=\"text-align: right;\">\n",
       "      <th></th>\n",
       "      <th>Exptl.</th>\n",
       "      <th>FreeRvalue</th>\n",
       "      <th>R-factor</th>\n",
       "      <th>alpha</th>\n",
       "      <th>beta</th>\n",
       "      <th>coil</th>\n",
       "      <th>features</th>\n",
       "      <th>foldType</th>\n",
       "      <th>length</th>\n",
       "      <th>ngram</th>\n",
       "      <th>pdbChainId</th>\n",
       "      <th>resolution</th>\n",
       "      <th>secondary_structure</th>\n",
       "      <th>sequence</th>\n",
       "    </tr>\n",
       "  </thead>\n",
       "  <tbody>\n",
       "    <tr>\n",
       "      <th>9427</th>\n",
       "      <td>XRAY</td>\n",
       "      <td>0.21</td>\n",
       "      <td>0.17</td>\n",
       "      <td>0.000000</td>\n",
       "      <td>0.423077</td>\n",
       "      <td>0.576923</td>\n",
       "      <td>[-0.14773577770000001, -0.1167704432, -0.30280...</td>\n",
       "      <td>beta</td>\n",
       "      <td>104</td>\n",
       "      <td>[SE, ER, RP, PS, SP, PP, PV, VN, NL, LT, TS, S...</td>\n",
       "      <td>4O00.A</td>\n",
       "      <td>1.853</td>\n",
       "      <td>CCCCCCCEEEEEECCCSSEEEEEEECCSCCTTSCCCEEEEEEEETT...</td>\n",
       "      <td>SERPSPPVNLTSSDQTQSSVQLKWEPPLKDGGSPILGYIIERCEEG...</td>\n",
       "    </tr>\n",
       "    <tr>\n",
       "      <th>13457</th>\n",
       "      <td>XRAY</td>\n",
       "      <td>0.29</td>\n",
       "      <td>0.23</td>\n",
       "      <td>0.761905</td>\n",
       "      <td>0.027778</td>\n",
       "      <td>0.210317</td>\n",
       "      <td>[-0.0765513835, -0.2019394528, 0.254880272, 0....</td>\n",
       "      <td>alpha</td>\n",
       "      <td>252</td>\n",
       "      <td>[MS, SN, NM, MK, KK, KD, DT, TN, NE, EI, IV, V...</td>\n",
       "      <td>6BR8.A</td>\n",
       "      <td>2.300</td>\n",
       "      <td>CCCCHHHHHHHHHHHHHHHHHHHHHHTCSSHHHHHHHHHHTHHHHH...</td>\n",
       "      <td>MSNMKKDTNEIVQDLKKILGIVSLIKSANNEHQAYKILMENNSFII...</td>\n",
       "    </tr>\n",
       "  </tbody>\n",
       "</table>\n",
       "</div>"
      ],
      "text/plain": [
       "      Exptl.  FreeRvalue  R-factor     alpha      beta      coil  \\\n",
       "9427    XRAY        0.21      0.17  0.000000  0.423077  0.576923   \n",
       "13457   XRAY        0.29      0.23  0.761905  0.027778  0.210317   \n",
       "\n",
       "                                                features foldType  length  \\\n",
       "9427   [-0.14773577770000001, -0.1167704432, -0.30280...     beta     104   \n",
       "13457  [-0.0765513835, -0.2019394528, 0.254880272, 0....    alpha     252   \n",
       "\n",
       "                                                   ngram pdbChainId  \\\n",
       "9427   [SE, ER, RP, PS, SP, PP, PV, VN, NL, LT, TS, S...     4O00.A   \n",
       "13457  [MS, SN, NM, MK, KK, KD, DT, TN, NE, EI, IV, V...     6BR8.A   \n",
       "\n",
       "       resolution                                secondary_structure  \\\n",
       "9427        1.853  CCCCCCCEEEEEECCCSSEEEEEEECCSCCTTSCCCEEEEEEEETT...   \n",
       "13457       2.300  CCCCHHHHHHHHHHHHHHHHHHHHHHTCSSHHHHHHHHHHTHHHHH...   \n",
       "\n",
       "                                                sequence  \n",
       "9427   SERPSPPVNLTSSDQTQSSVQLKWEPPLKDGGSPILGYIIERCEEG...  \n",
       "13457  MSNMKKDTNEIVQDLKKILGIVSLIKSANNEHQAYKILMENNSFII...  "
      ]
     },
     "execution_count": 7,
     "metadata": {},
     "output_type": "execute_result"
    }
   ],
   "source": [
    "train, test = train_test_split(df, test_size=0.33, random_state=13, stratify=df[value_col])\n",
    "print(\"Train set size:\", train.shape[0])\n",
    "print(train[value_col].value_counts())\n",
    "print()\n",
    "print(\"Test set size:\", test.shape[0])\n",
    "print(test[value_col].value_counts())\n",
    "train.head(2)"
   ]
  },
  {
   "cell_type": "markdown",
   "metadata": {},
   "source": [
    "## Train a classifier"
   ]
  },
  {
   "cell_type": "code",
   "execution_count": 8,
   "metadata": {},
   "outputs": [
    {
     "data": {
      "text/plain": [
       "SVC(C=1.0, cache_size=200, class_weight=None, coef0=0.0,\n",
       "  decision_function_shape='ovr', degree=3, gamma='auto', kernel='rbf',\n",
       "  max_iter=-1, probability=False, random_state=None, shrinking=True,\n",
       "  tol=0.001, verbose=False)"
      ]
     },
     "execution_count": 8,
     "metadata": {},
     "output_type": "execute_result"
    }
   ],
   "source": [
    "classifier = svm.SVC(gamma='auto')\n",
    "#classifier = LogisticRegression()\n",
    "#classifier = RandomForestClassifier()\n",
    "\n",
    "classifier.fit(train[feature_col].tolist(), train[value_col].tolist())"
   ]
  },
  {
   "cell_type": "markdown",
   "metadata": {},
   "source": [
    "## Make prediction for test set"
   ]
  },
  {
   "cell_type": "code",
   "execution_count": 9,
   "metadata": {},
   "outputs": [],
   "source": [
    "predicted = classifier.predict(test[feature_col].tolist())\n",
    "expected = test[value_col].tolist()"
   ]
  },
  {
   "cell_type": "markdown",
   "metadata": {},
   "source": [
    "## Calculate metrics for test set"
   ]
  },
  {
   "cell_type": "code",
   "execution_count": 10,
   "metadata": {},
   "outputs": [
    {
     "name": "stdout",
     "output_type": "stream",
     "text": [
      "Classification metrics:\n",
      "\n",
      "             precision    recall  f1-score   support\n",
      "\n",
      "      alpha       0.79      0.67      0.73       288\n",
      " alpha+beta       0.62      0.67      0.64       288\n",
      "       beta       0.77      0.83      0.80       289\n",
      "\n",
      "avg / total       0.73      0.72      0.72       865\n",
      "\n"
     ]
    },
    {
     "data": {
      "image/png": "[encoded data removed]",
      "text/plain": [
       "<Figure size 576x432 with 2 Axes>"
      ]
     },
     "metadata": {},
     "output_type": "display_data"
    }
   ],
   "source": [
    "cm = metrics.confusion_matrix(expected, predicted)\n",
    "print(\"Classification metrics:\\n\")\n",
    "print(metrics.classification_report(expected, predicted))\n",
    "mlutils.plot_confusion_matrix(cm, classifier.classes_, normalize=False)"
   ]
  }
 ],
 "metadata": {
  "kernelspec": {
   "display_name": "Python 3",
   "language": "python",
   "name": "python3"
  },
  "language_info": {
   "codemirror_mode": {
    "name": "ipython",
    "version": 3
   },
   "file_extension": ".py",
   "mimetype": "text/x-python",
   "name": "python",
   "nbconvert_exporter": "python",
   "pygments_lexer": "ipython3",
   "version": "3.6.3"
  }
 },
 "nbformat": 4,
 "nbformat_minor": 2
}
