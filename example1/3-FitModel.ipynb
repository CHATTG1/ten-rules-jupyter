{
 "cells": [
  {
   "cell_type": "markdown",
   "metadata": {},
   "source": [
    "# Fit Model\n"
   ]
  },
  {
   "cell_type": "code",
   "execution_count": 156,
   "metadata": {},
   "outputs": [],
   "source": [
    "import pandas as pd\n",
    "import mlutils\n",
    "from sklearn import svm, metrics\n",
    "from sklearn.linear_model import LogisticRegression\n",
    "from sklearn.ensemble import RandomForestClassifier\n",
    "from sklearn.model_selection import train_test_split"
   ]
  },
  {
   "cell_type": "code",
   "execution_count": 157,
   "metadata": {},
   "outputs": [],
   "source": [
    "# column names\n",
    "feature_col = \"features\" # feature vector\n",
    "value_col = \"foldType\" # fold type to be predicted"
   ]
  },
  {
   "cell_type": "markdown",
   "metadata": {},
   "source": [
    "### Read data set with fold type classifications and feature vectors"
   ]
  },
  {
   "cell_type": "code",
   "execution_count": 158,
   "metadata": {},
   "outputs": [],
   "source": [
    "df = pd.read_json(\"./features.json\")"
   ]
  },
  {
   "cell_type": "code",
   "execution_count": 159,
   "metadata": {},
   "outputs": [
    {
     "name": "stdout",
     "output_type": "stream",
     "text": [
      "Total number of data: 10713\n"
     ]
    },
    {
     "data": {
      "text/html": [
       "<div>\n",
       "<style scoped>\n",
       "    .dataframe tbody tr th:only-of-type {\n",
       "        vertical-align: middle;\n",
       "    }\n",
       "\n",
       "    .dataframe tbody tr th {\n",
       "        vertical-align: top;\n",
       "    }\n",
       "\n",
       "    .dataframe thead th {\n",
       "        text-align: right;\n",
       "    }\n",
       "</style>\n",
       "<table border=\"1\" class=\"dataframe\">\n",
       "  <thead>\n",
       "    <tr style=\"text-align: right;\">\n",
       "      <th></th>\n",
       "      <th>Exptl.</th>\n",
       "      <th>FreeRvalue</th>\n",
       "      <th>R-factor</th>\n",
       "      <th>alpha</th>\n",
       "      <th>beta</th>\n",
       "      <th>coil</th>\n",
       "      <th>features</th>\n",
       "      <th>foldType</th>\n",
       "      <th>length</th>\n",
       "      <th>ngram</th>\n",
       "      <th>pdbChainId</th>\n",
       "      <th>resolution</th>\n",
       "      <th>secondary_structure</th>\n",
       "      <th>sequence</th>\n",
       "    </tr>\n",
       "  </thead>\n",
       "  <tbody>\n",
       "    <tr>\n",
       "      <th>0</th>\n",
       "      <td>XRAY</td>\n",
       "      <td>0.29</td>\n",
       "      <td>0.16</td>\n",
       "      <td>0.345455</td>\n",
       "      <td>0.206061</td>\n",
       "      <td>0.448485</td>\n",
       "      <td>[-0.2495497023, 0.0835027742, -0.2646374465, 0...</td>\n",
       "      <td>alpha+beta</td>\n",
       "      <td>330</td>\n",
       "      <td>[MK, KT, TA, AY, YI, IA, AK, KQ, QR, RQ, QI, I...</td>\n",
       "      <td>12AS.A</td>\n",
       "      <td>2.2</td>\n",
       "      <td>CCCCHHHHHHHHHHHHHHHHHHHHHHHCEEECCCCSEEETTSSCSC...</td>\n",
       "      <td>MKTAYIAKQRQISFVKSHFSRQLEERLGLIEVQAPILSRVGDGTQD...</td>\n",
       "    </tr>\n",
       "    <tr>\n",
       "      <th>1</th>\n",
       "      <td>XRAY</td>\n",
       "      <td>0.26</td>\n",
       "      <td>0.19</td>\n",
       "      <td>0.469945</td>\n",
       "      <td>0.046448</td>\n",
       "      <td>0.483607</td>\n",
       "      <td>[-0.5319030737, 0.1313498868, -0.5293261122, 0...</td>\n",
       "      <td>alpha</td>\n",
       "      <td>366</td>\n",
       "      <td>[SR, RM, MP, PS, SP, PP, PM, MP, PV, VP, PP, P...</td>\n",
       "      <td>16VP.A</td>\n",
       "      <td>2.1</td>\n",
       "      <td>CCSCCCCCCCCHHHHHHHHHHHHTCTTHHHHHHHHHHCCCCCSTTS...</td>\n",
       "      <td>SRMPSPPMPVPPAALFNRLLDDLGFSAGPALCTMLDTWNEDLFSAL...</td>\n",
       "    </tr>\n",
       "  </tbody>\n",
       "</table>\n",
       "</div>"
      ],
      "text/plain": [
       "  Exptl.  FreeRvalue  R-factor     alpha      beta      coil  \\\n",
       "0   XRAY        0.29      0.16  0.345455  0.206061  0.448485   \n",
       "1   XRAY        0.26      0.19  0.469945  0.046448  0.483607   \n",
       "\n",
       "                                            features    foldType  length  \\\n",
       "0  [-0.2495497023, 0.0835027742, -0.2646374465, 0...  alpha+beta     330   \n",
       "1  [-0.5319030737, 0.1313498868, -0.5293261122, 0...       alpha     366   \n",
       "\n",
       "                                               ngram pdbChainId  resolution  \\\n",
       "0  [MK, KT, TA, AY, YI, IA, AK, KQ, QR, RQ, QI, I...     12AS.A         2.2   \n",
       "1  [SR, RM, MP, PS, SP, PP, PM, MP, PV, VP, PP, P...     16VP.A         2.1   \n",
       "\n",
       "                                 secondary_structure  \\\n",
       "0  CCCCHHHHHHHHHHHHHHHHHHHHHHHCEEECCCCSEEETTSSCSC...   \n",
       "1  CCSCCCCCCCCHHHHHHHHHHHHTCTTHHHHHHHHHHCCCCCSTTS...   \n",
       "\n",
       "                                            sequence  \n",
       "0  MKTAYIAKQRQISFVKSHFSRQLEERLGLIEVQAPILSRVGDGTQD...  \n",
       "1  SRMPSPPMPVPPAALFNRLLDDLGFSAGPALCTMLDTWNEDLFSAL...  "
      ]
     },
     "execution_count": 159,
     "metadata": {},
     "output_type": "execute_result"
    }
   ],
   "source": [
    "print(\"Total number of data:\", df.shape[0])\n",
    "df.head(2)"
   ]
  },
  {
   "cell_type": "markdown",
   "metadata": {},
   "source": [
    "## Balance dataset"
   ]
  },
  {
   "cell_type": "markdown",
   "metadata": {},
   "source": [
    "This dataset if highly imbalanced. The alpha+beta class is over-represented and the beta class is underrepresented."
   ]
  },
  {
   "cell_type": "code",
   "execution_count": 160,
   "metadata": {},
   "outputs": [
    {
     "data": {
      "text/plain": [
       "alpha+beta    7030\n",
       "alpha         2810\n",
       "beta           873\n",
       "Name: foldType, dtype: int64"
      ]
     },
     "execution_count": 160,
     "metadata": {},
     "output_type": "execute_result"
    }
   ],
   "source": [
    "df[value_col].value_counts()"
   ]
  },
  {
   "cell_type": "markdown",
   "metadata": {},
   "source": [
    "Here we balance the dataset by downsampling the over-represented classes. Samples are randomly choose from the over-represented classes. We use a fixed random number seed so the downsampling step is reproducible."
   ]
  },
  {
   "cell_type": "code",
   "execution_count": 161,
   "metadata": {},
   "outputs": [
    {
     "data": {
      "text/plain": [
       "alpha         873\n",
       "alpha+beta    873\n",
       "beta          873\n",
       "Name: foldType, dtype: int64"
      ]
     },
     "execution_count": 161,
     "metadata": {},
     "output_type": "execute_result"
    }
   ],
   "source": [
    "df = mlutils.downsample(df, value_col, seed=13)\n",
    "df[value_col].value_counts()"
   ]
  },
  {
   "cell_type": "markdown",
   "metadata": {},
   "source": [
    "## Split dataset into a training and test set"
   ]
  },
  {
   "cell_type": "code",
   "execution_count": 162,
   "metadata": {},
   "outputs": [
    {
     "name": "stdout",
     "output_type": "stream",
     "text": [
      "Train set size: 1754\n",
      "alpha+beta    585\n",
      "alpha         585\n",
      "beta          584\n",
      "Name: foldType, dtype: int64\n",
      "\n",
      "Test set size: 865\n",
      "beta          289\n",
      "alpha+beta    288\n",
      "alpha         288\n",
      "Name: foldType, dtype: int64\n"
     ]
    },
    {
     "data": {
      "text/html": [
       "<div>\n",
       "<style scoped>\n",
       "    .dataframe tbody tr th:only-of-type {\n",
       "        vertical-align: middle;\n",
       "    }\n",
       "\n",
       "    .dataframe tbody tr th {\n",
       "        vertical-align: top;\n",
       "    }\n",
       "\n",
       "    .dataframe thead th {\n",
       "        text-align: right;\n",
       "    }\n",
       "</style>\n",
       "<table border=\"1\" class=\"dataframe\">\n",
       "  <thead>\n",
       "    <tr style=\"text-align: right;\">\n",
       "      <th></th>\n",
       "      <th>Exptl.</th>\n",
       "      <th>FreeRvalue</th>\n",
       "      <th>R-factor</th>\n",
       "      <th>alpha</th>\n",
       "      <th>beta</th>\n",
       "      <th>coil</th>\n",
       "      <th>features</th>\n",
       "      <th>foldType</th>\n",
       "      <th>length</th>\n",
       "      <th>ngram</th>\n",
       "      <th>pdbChainId</th>\n",
       "      <th>resolution</th>\n",
       "      <th>secondary_structure</th>\n",
       "      <th>sequence</th>\n",
       "    </tr>\n",
       "  </thead>\n",
       "  <tbody>\n",
       "    <tr>\n",
       "      <th>9427</th>\n",
       "      <td>XRAY</td>\n",
       "      <td>0.21</td>\n",
       "      <td>0.17</td>\n",
       "      <td>0.000000</td>\n",
       "      <td>0.423077</td>\n",
       "      <td>0.576923</td>\n",
       "      <td>[0.2298227586, 0.296605096, 0.0046208764000000...</td>\n",
       "      <td>beta</td>\n",
       "      <td>104</td>\n",
       "      <td>[SE, ER, RP, PS, SP, PP, PV, VN, NL, LT, TS, S...</td>\n",
       "      <td>4O00.A</td>\n",
       "      <td>1.853</td>\n",
       "      <td>CCCCCCCEEEEEECCCSSEEEEEEECCSCCTTSCCCEEEEEEEETT...</td>\n",
       "      <td>SERPSPPVNLTSSDQTQSSVQLKWEPPLKDGGSPILGYIIERCEEG...</td>\n",
       "    </tr>\n",
       "    <tr>\n",
       "      <th>13457</th>\n",
       "      <td>XRAY</td>\n",
       "      <td>0.29</td>\n",
       "      <td>0.23</td>\n",
       "      <td>0.761905</td>\n",
       "      <td>0.027778</td>\n",
       "      <td>0.210317</td>\n",
       "      <td>[0.9048841632, -0.12931998690000002, 0.4223410...</td>\n",
       "      <td>alpha</td>\n",
       "      <td>252</td>\n",
       "      <td>[MS, SN, NM, MK, KK, KD, DT, TN, NE, EI, IV, V...</td>\n",
       "      <td>6BR8.A</td>\n",
       "      <td>2.300</td>\n",
       "      <td>CCCCHHHHHHHHHHHHHHHHHHHHHHTCSSHHHHHHHHHHTHHHHH...</td>\n",
       "      <td>MSNMKKDTNEIVQDLKKILGIVSLIKSANNEHQAYKILMENNSFII...</td>\n",
       "    </tr>\n",
       "    <tr>\n",
       "      <th>7764</th>\n",
       "      <td>XRAY</td>\n",
       "      <td>0.20</td>\n",
       "      <td>0.14</td>\n",
       "      <td>0.712042</td>\n",
       "      <td>0.010471</td>\n",
       "      <td>0.277487</td>\n",
       "      <td>[-0.3201574277, 0.23937715580000002, -0.058413...</td>\n",
       "      <td>alpha</td>\n",
       "      <td>191</td>\n",
       "      <td>[GH, HM, MV, VS, SV, VA, AA, AG, GD, DK, KP, P...</td>\n",
       "      <td>4ACI.B</td>\n",
       "      <td>1.650</td>\n",
       "      <td>CCCCCCCCCCCCCCHHHHHHHHHHHHHHHHTTTTCCHHHHHHHHCC...</td>\n",
       "      <td>GHMVSVAAGDKPTNSRQEILEGARRCFAEHGYEGATVRRLEEATGK...</td>\n",
       "    </tr>\n",
       "    <tr>\n",
       "      <th>3184</th>\n",
       "      <td>XRAY</td>\n",
       "      <td>0.19</td>\n",
       "      <td>0.15</td>\n",
       "      <td>0.038095</td>\n",
       "      <td>0.419048</td>\n",
       "      <td>0.542857</td>\n",
       "      <td>[0.0688181591, 0.2881335996, 0.2057994232, -0....</td>\n",
       "      <td>beta</td>\n",
       "      <td>105</td>\n",
       "      <td>[GP, PL, LG, GS, SW, WV, VI, IP, PP, PI, IS, S...</td>\n",
       "      <td>2OMZ.B</td>\n",
       "      <td>1.600</td>\n",
       "      <td>CCSTTEECCCCCEESSCCSSSSEEEEECEEGGGGSSCCEEEEEEBT...</td>\n",
       "      <td>GPLGSWVIPPISCPENEKGPFPKNLVQIKSNKDKEGKVFYSITGQG...</td>\n",
       "    </tr>\n",
       "    <tr>\n",
       "      <th>4276</th>\n",
       "      <td>XRAY</td>\n",
       "      <td>0.18</td>\n",
       "      <td>0.17</td>\n",
       "      <td>0.042301</td>\n",
       "      <td>0.362098</td>\n",
       "      <td>0.595601</td>\n",
       "      <td>[-0.25774497150000003, 0.28370287110000003, -0...</td>\n",
       "      <td>beta</td>\n",
       "      <td>591</td>\n",
       "      <td>[AA, AR, RQ, QM, ME, EA, AL, LN, NR, RG, GL, L...</td>\n",
       "      <td>2ZUX.B</td>\n",
       "      <td>1.320</td>\n",
       "      <td>CCEECCCCCCCCEEEECSSSEEEECCBCTTCCTTCEEEEEETTEEC...</td>\n",
       "      <td>AARQMEALNRGLVAVKTDGGIFVSWRFLGTENASVLFNVYRDGQKL...</td>\n",
       "    </tr>\n",
       "  </tbody>\n",
       "</table>\n",
       "</div>"
      ],
      "text/plain": [
       "      Exptl.  FreeRvalue  R-factor     alpha      beta      coil  \\\n",
       "9427    XRAY        0.21      0.17  0.000000  0.423077  0.576923   \n",
       "13457   XRAY        0.29      0.23  0.761905  0.027778  0.210317   \n",
       "7764    XRAY        0.20      0.14  0.712042  0.010471  0.277487   \n",
       "3184    XRAY        0.19      0.15  0.038095  0.419048  0.542857   \n",
       "4276    XRAY        0.18      0.17  0.042301  0.362098  0.595601   \n",
       "\n",
       "                                                features foldType  length  \\\n",
       "9427   [0.2298227586, 0.296605096, 0.0046208764000000...     beta     104   \n",
       "13457  [0.9048841632, -0.12931998690000002, 0.4223410...    alpha     252   \n",
       "7764   [-0.3201574277, 0.23937715580000002, -0.058413...    alpha     191   \n",
       "3184   [0.0688181591, 0.2881335996, 0.2057994232, -0....     beta     105   \n",
       "4276   [-0.25774497150000003, 0.28370287110000003, -0...     beta     591   \n",
       "\n",
       "                                                   ngram pdbChainId  \\\n",
       "9427   [SE, ER, RP, PS, SP, PP, PV, VN, NL, LT, TS, S...     4O00.A   \n",
       "13457  [MS, SN, NM, MK, KK, KD, DT, TN, NE, EI, IV, V...     6BR8.A   \n",
       "7764   [GH, HM, MV, VS, SV, VA, AA, AG, GD, DK, KP, P...     4ACI.B   \n",
       "3184   [GP, PL, LG, GS, SW, WV, VI, IP, PP, PI, IS, S...     2OMZ.B   \n",
       "4276   [AA, AR, RQ, QM, ME, EA, AL, LN, NR, RG, GL, L...     2ZUX.B   \n",
       "\n",
       "       resolution                                secondary_structure  \\\n",
       "9427        1.853  CCCCCCCEEEEEECCCSSEEEEEEECCSCCTTSCCCEEEEEEEETT...   \n",
       "13457       2.300  CCCCHHHHHHHHHHHHHHHHHHHHHHTCSSHHHHHHHHHHTHHHHH...   \n",
       "7764        1.650  CCCCCCCCCCCCCCHHHHHHHHHHHHHHHHTTTTCCHHHHHHHHCC...   \n",
       "3184        1.600  CCSTTEECCCCCEESSCCSSSSEEEEECEEGGGGSSCCEEEEEEBT...   \n",
       "4276        1.320  CCEECCCCCCCCEEEECSSSEEEECCBCTTCCTTCEEEEEETTEEC...   \n",
       "\n",
       "                                                sequence  \n",
       "9427   SERPSPPVNLTSSDQTQSSVQLKWEPPLKDGGSPILGYIIERCEEG...  \n",
       "13457  MSNMKKDTNEIVQDLKKILGIVSLIKSANNEHQAYKILMENNSFII...  \n",
       "7764   GHMVSVAAGDKPTNSRQEILEGARRCFAEHGYEGATVRRLEEATGK...  \n",
       "3184   GPLGSWVIPPISCPENEKGPFPKNLVQIKSNKDKEGKVFYSITGQG...  \n",
       "4276   AARQMEALNRGLVAVKTDGGIFVSWRFLGTENASVLFNVYRDGQKL...  "
      ]
     },
     "execution_count": 162,
     "metadata": {},
     "output_type": "execute_result"
    }
   ],
   "source": [
    "train, test = train_test_split(df, test_size=0.33, random_state=13, stratify=df[value_col])\n",
    "print(\"Train set size:\", train.shape[0])\n",
    "print(train[value_col].value_counts())\n",
    "print()\n",
    "print(\"Test set size:\", test.shape[0])\n",
    "print(test[value_col].value_counts())\n",
    "train.head(2)"
   ]
  },
  {
   "cell_type": "markdown",
   "metadata": {},
   "source": [
    "## Train a classifier"
   ]
  },
  {
   "cell_type": "code",
   "execution_count": 163,
   "metadata": {},
   "outputs": [
    {
     "data": {
      "text/plain": [
       "SVC(C=1.0, cache_size=200, class_weight=None, coef0=0.0,\n",
       "  decision_function_shape='ovr', degree=3, gamma='auto', kernel='rbf',\n",
       "  max_iter=-1, probability=False, random_state=None, shrinking=True,\n",
       "  tol=0.001, verbose=False)"
      ]
     },
     "execution_count": 163,
     "metadata": {},
     "output_type": "execute_result"
    }
   ],
   "source": [
    "classifier = svm.SVC()\n",
    "#classifier = LogisticRegression()\n",
    "#classifier = RandomForestClassifier()\n",
    "\n",
    "classifier.fit(train[feature_col].tolist(), train[value_col].tolist())"
   ]
  },
  {
   "cell_type": "markdown",
   "metadata": {},
   "source": [
    "## Make prediction for test set"
   ]
  },
  {
   "cell_type": "code",
   "execution_count": 164,
   "metadata": {},
   "outputs": [],
   "source": [
    "predicted = classifier.predict(test[feature_col].tolist())\n",
    "expected = test[value_col].tolist()"
   ]
  },
  {
   "cell_type": "markdown",
   "metadata": {},
   "source": [
    "## Calculate metrics for test set"
   ]
  },
  {
   "cell_type": "code",
   "execution_count": 165,
   "metadata": {},
   "outputs": [
    {
     "name": "stdout",
     "output_type": "stream",
     "text": [
      "Classification metrics:\n",
      "\n",
      "             precision    recall  f1-score   support\n",
      "\n",
      "      alpha       0.81      0.67      0.73       288\n",
      " alpha+beta       0.63      0.69      0.66       288\n",
      "       beta       0.77      0.83      0.80       289\n",
      "\n",
      "avg / total       0.74      0.73      0.73       865\n",
      "\n"
     ]
    },
    {
     "data": {
      "image/png": "[encoded data removed]",
      "text/plain": [
       "<Figure size 576x432 with 2 Axes>"
      ]
     },
     "metadata": {},
     "output_type": "display_data"
    }
   ],
   "source": [
    "cm = metrics.confusion_matrix(expected, predicted)\n",
    "print(\"Classification metrics:\\n\")\n",
    "print(metrics.classification_report(expected, predicted))\n",
    "mlutils.plot_confusion_matrix(cm, classifier.classes_, normalize=False)"
   ]
  },
  {
   "cell_type": "code",
   "execution_count": null,
   "metadata": {},
   "outputs": [],
   "source": []
  },
  {
   "cell_type": "code",
   "execution_count": null,
   "metadata": {},
   "outputs": [],
   "source": []
  },
  {
   "cell_type": "code",
   "execution_count": null,
   "metadata": {},
   "outputs": [],
   "source": []
  },
  {
   "cell_type": "code",
   "execution_count": null,
   "metadata": {},
   "outputs": [],
   "source": []
  }
 ],
 "metadata": {
  "kernelspec": {
   "display_name": "Python 3",
   "language": "python",
   "name": "python3"
  },
  "language_info": {
   "codemirror_mode": {
    "name": "ipython",
    "version": 3
   },
   "file_extension": ".py",
   "mimetype": "text/x-python",
   "name": "python",
   "nbconvert_exporter": "python",
   "pygments_lexer": "ipython3",
   "version": "3.6.3"
  }
 },
 "nbformat": 4,
 "nbformat_minor": 2
}
