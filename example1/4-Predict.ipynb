{
 "cells": [
  {
   "cell_type": "markdown",
   "metadata": {},
   "source": [
    "# Make a Prediction"
   ]
  },
  {
   "cell_type": "code",
   "execution_count": 1,
   "metadata": {},
   "outputs": [
    {
     "name": "stdout",
     "output_type": "stream",
     "text": [
      "SKGEELFTGVVPILVELDGDVNGHKFSVRGEGEGDATNGKLTLKFICTTGKLPVPWPTLVTTLTYGVQCFSRYPDHMKRHDFFKSAMPEGYVQERTISFKDDGTYKTRAEVKFEGDTLVNRIELKGIDFKEDGNILGHKLEYNFNSFNVYITADKQKNGIKANFKIRHNVEDGSVQLADHYQQNTPIGDGPVLLPDNHYLSTQSVLSKDPNEKRDHMVLLEFVTAAGITH\n"
     ]
    }
   ],
   "source": [
    "# PDB chain: 5NHN.A (beta)\n",
    "sequence = (\"SKGEELFTGVVPILVELDGDVNGHKFSVRGEGEGDATNGKLTLKFICTTGKLPVPWPTLVTTLTYGVQCFSRYPDHMKRH\"\n",
    "            \"DFFKSAMPEGYVQERTISFKDDGTYKTRAEVKFEGDTLVNRIELKGIDFKEDGNILGHKLEYNFNSFNVYITADKQKNGI\"\n",
    "            \"KANFKIRHNVEDGSVQLADHYQQNTPIGDGPVLLPDNHYLSTQSVLSKDPNEKRDHMVLLEFVTAAGITH\"\n",
    "           )\n",
    "print(sequence)"
   ]
  },
  {
   "cell_type": "code",
   "execution_count": 2,
   "metadata": {},
   "outputs": [],
   "source": [
    "from gensim.models import Word2Vec  \n",
    "from sklearn import svm\n",
    "from sklearn.externals import joblib\n",
    "import word2vecutils"
   ]
  },
  {
   "cell_type": "code",
   "execution_count": 3,
   "metadata": {},
   "outputs": [],
   "source": [
    "# parameters\n",
    "n_gram = 3 # size of n-gram"
   ]
  },
  {
   "cell_type": "markdown",
   "metadata": {},
   "source": [
    "## Load Word2vec model"
   ]
  },
  {
   "cell_type": "code",
   "execution_count": 4,
   "metadata": {},
   "outputs": [],
   "source": [
    "model = Word2Vec.load(\"./word2vecmodel\")"
   ]
  },
  {
   "cell_type": "markdown",
   "metadata": {},
   "source": [
    "## Load Classifier model"
   ]
  },
  {
   "cell_type": "code",
   "execution_count": 5,
   "metadata": {},
   "outputs": [],
   "source": [
    "classifier = joblib.load(\"./classifier\")"
   ]
  },
  {
   "cell_type": "code",
   "execution_count": 6,
   "metadata": {},
   "outputs": [
    {
     "data": {
      "text/plain": [
       "SVC(C=1.0, cache_size=200, class_weight='balanced', coef0=0.0,\n",
       "  decision_function_shape='ovr', degree=3, gamma='auto', kernel='rbf',\n",
       "  max_iter=-1, probability=True, random_state=13, shrinking=True,\n",
       "  tol=0.001, verbose=False)"
      ]
     },
     "execution_count": 6,
     "metadata": {},
     "output_type": "execute_result"
    }
   ],
   "source": [
    "classifier"
   ]
  },
  {
   "cell_type": "markdown",
   "metadata": {},
   "source": [
    "## Input a Protein Sequence"
   ]
  },
  {
   "cell_type": "markdown",
   "metadata": {},
   "source": [
    "## Calculate n-grams"
   ]
  },
  {
   "cell_type": "code",
   "execution_count": 7,
   "metadata": {},
   "outputs": [
    {
     "name": "stdout",
     "output_type": "stream",
     "text": [
      "['SKG', 'KGE', 'GEE', 'EEL', 'ELF', 'LFT', 'FTG', 'TGV', 'GVV', 'VVP', 'VPI', 'PIL', 'ILV', 'LVE', 'VEL', 'ELD', 'LDG', 'DGD', 'GDV', 'DVN', 'VNG', 'NGH', 'GHK', 'HKF', 'KFS', 'FSV', 'SVR', 'VRG', 'RGE', 'GEG', 'EGE', 'GEG', 'EGD', 'GDA', 'DAT', 'ATN', 'TNG', 'NGK', 'GKL', 'KLT', 'LTL', 'TLK', 'LKF', 'KFI', 'FIC', 'ICT', 'CTT', 'TTG', 'TGK', 'GKL', 'KLP', 'LPV', 'PVP', 'VPW', 'PWP', 'WPT', 'PTL', 'TLV', 'LVT', 'VTT', 'TTL', 'TLT', 'LTY', 'TYG', 'YGV', 'GVQ', 'VQC', 'QCF', 'CFS', 'FSR', 'SRY', 'RYP', 'YPD', 'PDH', 'DHM', 'HMK', 'MKR', 'KRH', 'RHD', 'HDF', 'DFF', 'FFK', 'FKS', 'KSA', 'SAM', 'AMP', 'MPE', 'PEG', 'EGY', 'GYV', 'YVQ', 'VQE', 'QER', 'ERT', 'RTI', 'TIS', 'ISF', 'SFK', 'FKD', 'KDD', 'DDG', 'DGT', 'GTY', 'TYK', 'YKT', 'KTR', 'TRA', 'RAE', 'AEV', 'EVK', 'VKF', 'KFE', 'FEG', 'EGD', 'GDT', 'DTL', 'TLV', 'LVN', 'VNR', 'NRI', 'RIE', 'IEL', 'ELK', 'LKG', 'KGI', 'GID', 'IDF', 'DFK', 'FKE', 'KED', 'EDG', 'DGN', 'GNI', 'NIL', 'ILG', 'LGH', 'GHK', 'HKL', 'KLE', 'LEY', 'EYN', 'YNF', 'NFN', 'FNS', 'NSF', 'SFN', 'FNV', 'NVY', 'VYI', 'YIT', 'ITA', 'TAD', 'ADK', 'DKQ', 'KQK', 'QKN', 'KNG', 'NGI', 'GIK', 'IKA', 'KAN', 'ANF', 'NFK', 'FKI', 'KIR', 'IRH', 'RHN', 'HNV', 'NVE', 'VED', 'EDG', 'DGS', 'GSV', 'SVQ', 'VQL', 'QLA', 'LAD', 'ADH', 'DHY', 'HYQ', 'YQQ', 'QQN', 'QNT', 'NTP', 'TPI', 'PIG', 'IGD', 'GDG', 'DGP', 'GPV', 'PVL', 'VLL', 'LLP', 'LPD', 'PDN', 'DNH', 'NHY', 'HYL', 'YLS', 'LST', 'STQ', 'TQS', 'QSV', 'SVL', 'VLS', 'LSK', 'SKD', 'KDP', 'DPN', 'PNE', 'NEK', 'EKR', 'KRD', 'RDH', 'DHM', 'HMV', 'MVL', 'VLL', 'LLE', 'LEF', 'EFV', 'FVT', 'VTA', 'TAA', 'AAG', 'AGI', 'GIT', 'ITH']\n"
     ]
    }
   ],
   "source": [
    "ngrams = word2vecutils.ngrammer(sequence, n_gram)\n",
    "print(ngrams)"
   ]
  },
  {
   "cell_type": "markdown",
   "metadata": {},
   "source": [
    "## Calculate Feature Vector using Word2vec Model"
   ]
  },
  {
   "cell_type": "code",
   "execution_count": 8,
   "metadata": {},
   "outputs": [
    {
     "name": "stdout",
     "output_type": "stream",
     "text": [
      "[ 1.28778052  0.44674076  1.12697301 -0.58095954 -0.17015619 -1.39887458\n",
      " -0.49693654  1.49372242 -0.01038107 -0.86541491 -1.79464511 -0.80845894\n",
      " -0.76976113 -1.47495654 -0.42284002 -1.61085131 -1.12840114 -1.76804052\n",
      " -0.44402376 -0.54647153 -0.81864762  0.07283831 -1.18833596 -0.21399596\n",
      "  1.87218445 -0.22772358  0.93551314 -0.20331395  1.92181731  0.19185781\n",
      "  0.91030794 -0.21221369 -0.6987725   0.64262204  0.40463771 -0.02731242\n",
      "  1.16311523 -0.70965216  0.84768798  2.4154429  -0.5087721   0.90970767\n",
      " -1.29587341  1.17157026  0.04594684 -0.06091798  0.6589035   1.08781872\n",
      "  0.10689725  0.74261839]\n"
     ]
    }
   ],
   "source": [
    "featureVector = word2vecutils.average_word_vec_scaled(ngrams, model.wv)\n",
    "print(featureVector)"
   ]
  },
  {
   "cell_type": "markdown",
   "metadata": {},
   "source": [
    "## Predict Fold Class"
   ]
  },
  {
   "cell_type": "code",
   "execution_count": 9,
   "metadata": {},
   "outputs": [
    {
     "name": "stdout",
     "output_type": "stream",
     "text": [
      "Probabilities:\n",
      "['alpha' 'alpha+beta' 'beta']\n",
      "[0.0044486  0.13276207 0.86278933]\n",
      "\n",
      "Prediction: beta\n"
     ]
    }
   ],
   "source": [
    "predictions = classifier.predict([featureVector])\n",
    "probabilities = classifier.predict_proba([featureVector])\n",
    "\n",
    "print(\"Probabilities:\")\n",
    "print(classifier.classes_)\n",
    "print(probabilities[0])\n",
    "print(\"\\nPrediction:\", predictions[0])"
   ]
  }
 ],
 "metadata": {
  "kernelspec": {
   "display_name": "Python 3",
   "language": "python",
   "name": "python3"
  },
  "language_info": {
   "codemirror_mode": {
    "name": "ipython",
    "version": 3
   },
   "file_extension": ".py",
   "mimetype": "text/x-python",
   "name": "python",
   "nbconvert_exporter": "python",
   "pygments_lexer": "ipython3",
   "version": "3.6.3"
  }
 },
 "nbformat": 4,
 "nbformat_minor": 2
}
