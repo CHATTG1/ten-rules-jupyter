{
 "cells": [
  {
   "cell_type": "markdown",
   "metadata": {},
   "source": [
    "# Calculate Features\n",
    "This notebooks reads a dataset with protein sequence and fold type classification and calculates a feature vector for each protein sequence using the Word2vec method."
   ]
  },
  {
   "cell_type": "code",
   "execution_count": 1,
   "metadata": {},
   "outputs": [],
   "source": [
    "# parameters\n",
    "n_gram = 3 # size of n-gram\n",
    "feature_col = \"features\" # feature vector\n",
    "value_col = \"foldClass\" # fold class to be predicted"
   ]
  },
  {
   "cell_type": "code",
   "execution_count": 2,
   "metadata": {},
   "outputs": [],
   "source": [
    "from gensim.models import Word2Vec                                                                                                                                                      \n",
    "import pandas as pd\n",
    "import numpy as np   \n",
    "import word2vecutils"
   ]
  },
  {
   "cell_type": "code",
   "execution_count": 3,
   "metadata": {},
   "outputs": [],
   "source": [
    "df = pd.read_json(\"./foldClassification.json\")"
   ]
  },
  {
   "cell_type": "markdown",
   "metadata": {},
   "source": [
    "# Create n-grams of the Protein Sequence\n",
    "The Word2vec method requires a sentence with words as input. Here we split a protein sequence string into a sequence of n-grams. These n-grams represent the \"words\" in a protein sequence and n is the number of characters in a word.\n",
    "\n",
    "In this example we split sequences into 2-grams, e.g.: SRMPSPP... -> SR RM MP SP PP..."
   ]
  },
  {
   "cell_type": "code",
   "execution_count": 4,
   "metadata": {},
   "outputs": [
    {
     "data": {
      "text/html": [
       "<div>\n",
       "<style scoped>\n",
       "    .dataframe tbody tr th:only-of-type {\n",
       "        vertical-align: middle;\n",
       "    }\n",
       "\n",
       "    .dataframe tbody tr th {\n",
       "        vertical-align: top;\n",
       "    }\n",
       "\n",
       "    .dataframe thead th {\n",
       "        text-align: right;\n",
       "    }\n",
       "</style>\n",
       "<table border=\"1\" class=\"dataframe\">\n",
       "  <thead>\n",
       "    <tr style=\"text-align: right;\">\n",
       "      <th></th>\n",
       "      <th>Exptl.</th>\n",
       "      <th>FreeRvalue</th>\n",
       "      <th>R-factor</th>\n",
       "      <th>alpha</th>\n",
       "      <th>beta</th>\n",
       "      <th>coil</th>\n",
       "      <th>foldClass</th>\n",
       "      <th>length</th>\n",
       "      <th>pdbChainId</th>\n",
       "      <th>resolution</th>\n",
       "      <th>secondary_structure</th>\n",
       "      <th>sequence</th>\n",
       "      <th>ngram</th>\n",
       "    </tr>\n",
       "  </thead>\n",
       "  <tbody>\n",
       "    <tr>\n",
       "      <th>1</th>\n",
       "      <td>XRAY</td>\n",
       "      <td>0.26</td>\n",
       "      <td>0.19</td>\n",
       "      <td>0.469945</td>\n",
       "      <td>0.046448</td>\n",
       "      <td>0.483607</td>\n",
       "      <td>alpha</td>\n",
       "      <td>366</td>\n",
       "      <td>16VP.A</td>\n",
       "      <td>2.100</td>\n",
       "      <td>CCSCCCCCCCCHHHHHHHHHHHHTCTTHHHHHHHHHHCCCCCSTTS...</td>\n",
       "      <td>SRMPSPPMPVPPAALFNRLLDDLGFSAGPALCTMLDTWNEDLFSAL...</td>\n",
       "      <td>[SRM, RMP, MPS, PSP, SPP, PPM, PMP, MPV, PVP, ...</td>\n",
       "    </tr>\n",
       "    <tr>\n",
       "      <th>1000</th>\n",
       "      <td>XRAY</td>\n",
       "      <td>0.23</td>\n",
       "      <td>0.18</td>\n",
       "      <td>0.504630</td>\n",
       "      <td>0.004630</td>\n",
       "      <td>0.490741</td>\n",
       "      <td>alpha</td>\n",
       "      <td>216</td>\n",
       "      <td>1PBW.B</td>\n",
       "      <td>2.000</td>\n",
       "      <td>CCCCCCCCCCCCCCHHHHCCTTSCSCHHHHHHHHHHHHHHTTCTTT...</td>\n",
       "      <td>MEADVEQQALTLPDLAEQFAPPDIAPPLLIKLVEAIEKKGLECSTL...</td>\n",
       "      <td>[MEA, EAD, ADV, DVE, VEQ, EQQ, QQA, QAL, ALT, ...</td>\n",
       "    </tr>\n",
       "    <tr>\n",
       "      <th>10002</th>\n",
       "      <td>XRAY</td>\n",
       "      <td>0.26</td>\n",
       "      <td>0.22</td>\n",
       "      <td>0.716172</td>\n",
       "      <td>0.006601</td>\n",
       "      <td>0.277228</td>\n",
       "      <td>alpha</td>\n",
       "      <td>303</td>\n",
       "      <td>4TQ3.A</td>\n",
       "      <td>2.408</td>\n",
       "      <td>CCCCCCCCCCCCCCCHHHHHHCGGGGHHHHHHHHHHHHHHCCTTSC...</td>\n",
       "      <td>MDSSLANINQIDVPSKYLRLLRPVAWLCFLLPYAVGFGFGITPNAS...</td>\n",
       "      <td>[MDS, DSS, SSL, SLA, LAN, ANI, NIN, INQ, NQI, ...</td>\n",
       "    </tr>\n",
       "  </tbody>\n",
       "</table>\n",
       "</div>"
      ],
      "text/plain": [
       "      Exptl.  FreeRvalue  R-factor     alpha      beta      coil foldClass  \\\n",
       "1       XRAY        0.26      0.19  0.469945  0.046448  0.483607     alpha   \n",
       "1000    XRAY        0.23      0.18  0.504630  0.004630  0.490741     alpha   \n",
       "10002   XRAY        0.26      0.22  0.716172  0.006601  0.277228     alpha   \n",
       "\n",
       "       length pdbChainId  resolution  \\\n",
       "1         366     16VP.A       2.100   \n",
       "1000      216     1PBW.B       2.000   \n",
       "10002     303     4TQ3.A       2.408   \n",
       "\n",
       "                                     secondary_structure  \\\n",
       "1      CCSCCCCCCCCHHHHHHHHHHHHTCTTHHHHHHHHHHCCCCCSTTS...   \n",
       "1000   CCCCCCCCCCCCCCHHHHCCTTSCSCHHHHHHHHHHHHHHTTCTTT...   \n",
       "10002  CCCCCCCCCCCCCCCHHHHHHCGGGGHHHHHHHHHHHHHHCCTTSC...   \n",
       "\n",
       "                                                sequence  \\\n",
       "1      SRMPSPPMPVPPAALFNRLLDDLGFSAGPALCTMLDTWNEDLFSAL...   \n",
       "1000   MEADVEQQALTLPDLAEQFAPPDIAPPLLIKLVEAIEKKGLECSTL...   \n",
       "10002  MDSSLANINQIDVPSKYLRLLRPVAWLCFLLPYAVGFGFGITPNAS...   \n",
       "\n",
       "                                                   ngram  \n",
       "1      [SRM, RMP, MPS, PSP, SPP, PPM, PMP, MPV, PVP, ...  \n",
       "1000   [MEA, EAD, ADV, DVE, VEQ, EQQ, QQA, QAL, ALT, ...  \n",
       "10002  [MDS, DSS, SSL, SLA, LAN, ANI, NIN, INQ, NQI, ...  "
      ]
     },
     "execution_count": 4,
     "metadata": {},
     "output_type": "execute_result"
    }
   ],
   "source": [
    "# add column ngram to dataframe\n",
    "df['ngram'] = df.sequence.apply(word2vecutils.ngrammer, n=n_gram)\n",
    "df.head(3)"
   ]
  },
  {
   "cell_type": "markdown",
   "metadata": {},
   "source": [
    "# Create a Word2vec Model\n",
    "\n",
    "https://code.google.com/p/word2vec/\n"
   ]
  },
  {
   "cell_type": "code",
   "execution_count": 5,
   "metadata": {},
   "outputs": [
    {
     "data": {
      "text/plain": [
       "(5370185, 5375965)"
      ]
     },
     "execution_count": 5,
     "metadata": {},
     "output_type": "execute_result"
    }
   ],
   "source": [
    "# get ngram column as a list\n",
    "ngrams = list(df.ngram)\n",
    "\n",
    "# create word2vec model\n",
    "model = Word2Vec(ngrams, size=50, window=13, min_count=3, iter=5)\n",
    "\n",
    "# train word2vec model\n",
    "model.train(ngrams, total_examples=model.corpus_count, epochs=model.epochs)"
   ]
  },
  {
   "cell_type": "markdown",
   "metadata": {},
   "source": [
    "# Create a Fixed-sized Feature Vector\n",
    "Machine learning methods require fixed-size feature vectors. However, since the length of protein chains and their n-grams vary, we need a way to create a fixed size feature vector.\n",
    "\n",
    "Based on the paper (...) we average the word vectors for each sequence."
   ]
  },
  {
   "cell_type": "code",
   "execution_count": 6,
   "metadata": {},
   "outputs": [
    {
     "data": {
      "text/html": [
       "<div>\n",
       "<style scoped>\n",
       "    .dataframe tbody tr th:only-of-type {\n",
       "        vertical-align: middle;\n",
       "    }\n",
       "\n",
       "    .dataframe tbody tr th {\n",
       "        vertical-align: top;\n",
       "    }\n",
       "\n",
       "    .dataframe thead th {\n",
       "        text-align: right;\n",
       "    }\n",
       "</style>\n",
       "<table border=\"1\" class=\"dataframe\">\n",
       "  <thead>\n",
       "    <tr style=\"text-align: right;\">\n",
       "      <th></th>\n",
       "      <th>Exptl.</th>\n",
       "      <th>FreeRvalue</th>\n",
       "      <th>R-factor</th>\n",
       "      <th>alpha</th>\n",
       "      <th>beta</th>\n",
       "      <th>coil</th>\n",
       "      <th>foldClass</th>\n",
       "      <th>length</th>\n",
       "      <th>pdbChainId</th>\n",
       "      <th>resolution</th>\n",
       "      <th>secondary_structure</th>\n",
       "      <th>sequence</th>\n",
       "      <th>ngram</th>\n",
       "      <th>features</th>\n",
       "    </tr>\n",
       "  </thead>\n",
       "  <tbody>\n",
       "    <tr>\n",
       "      <th>1</th>\n",
       "      <td>XRAY</td>\n",
       "      <td>0.26</td>\n",
       "      <td>0.19</td>\n",
       "      <td>0.469945</td>\n",
       "      <td>0.046448</td>\n",
       "      <td>0.483607</td>\n",
       "      <td>alpha</td>\n",
       "      <td>366</td>\n",
       "      <td>16VP.A</td>\n",
       "      <td>2.100</td>\n",
       "      <td>CCSCCCCCCCCHHHHHHHHHHHHTCTTHHHHHHHHHHCCCCCSTTS...</td>\n",
       "      <td>SRMPSPPMPVPPAALFNRLLDDLGFSAGPALCTMLDTWNEDLFSAL...</td>\n",
       "      <td>[SRM, RMP, MPS, PSP, SPP, PPM, PMP, MPV, PVP, ...</td>\n",
       "      <td>[1.1960747496336708, -1.0387311626949265, 1.37...</td>\n",
       "    </tr>\n",
       "    <tr>\n",
       "      <th>1000</th>\n",
       "      <td>XRAY</td>\n",
       "      <td>0.23</td>\n",
       "      <td>0.18</td>\n",
       "      <td>0.504630</td>\n",
       "      <td>0.004630</td>\n",
       "      <td>0.490741</td>\n",
       "      <td>alpha</td>\n",
       "      <td>216</td>\n",
       "      <td>1PBW.B</td>\n",
       "      <td>2.000</td>\n",
       "      <td>CCCCCCCCCCCCCCHHHHCCTTSCSCHHHHHHHHHHHHHHTTCTTT...</td>\n",
       "      <td>MEADVEQQALTLPDLAEQFAPPDIAPPLLIKLVEAIEKKGLECSTL...</td>\n",
       "      <td>[MEA, EAD, ADV, DVE, VEQ, EQQ, QQA, QAL, ALT, ...</td>\n",
       "      <td>[0.9981168457395807, -1.0488222891799788, -0.0...</td>\n",
       "    </tr>\n",
       "    <tr>\n",
       "      <th>10002</th>\n",
       "      <td>XRAY</td>\n",
       "      <td>0.26</td>\n",
       "      <td>0.22</td>\n",
       "      <td>0.716172</td>\n",
       "      <td>0.006601</td>\n",
       "      <td>0.277228</td>\n",
       "      <td>alpha</td>\n",
       "      <td>303</td>\n",
       "      <td>4TQ3.A</td>\n",
       "      <td>2.408</td>\n",
       "      <td>CCCCCCCCCCCCCCCHHHHHHCGGGGHHHHHHHHHHHHHHCCTTSC...</td>\n",
       "      <td>MDSSLANINQIDVPSKYLRLLRPVAWLCFLLPYAVGFGFGITPNAS...</td>\n",
       "      <td>[MDS, DSS, SSL, SLA, LAN, ANI, NIN, INQ, NQI, ...</td>\n",
       "      <td>[1.2901504611184786, -1.3279968309953385, 1.52...</td>\n",
       "    </tr>\n",
       "  </tbody>\n",
       "</table>\n",
       "</div>"
      ],
      "text/plain": [
       "      Exptl.  FreeRvalue  R-factor     alpha      beta      coil foldClass  \\\n",
       "1       XRAY        0.26      0.19  0.469945  0.046448  0.483607     alpha   \n",
       "1000    XRAY        0.23      0.18  0.504630  0.004630  0.490741     alpha   \n",
       "10002   XRAY        0.26      0.22  0.716172  0.006601  0.277228     alpha   \n",
       "\n",
       "       length pdbChainId  resolution  \\\n",
       "1         366     16VP.A       2.100   \n",
       "1000      216     1PBW.B       2.000   \n",
       "10002     303     4TQ3.A       2.408   \n",
       "\n",
       "                                     secondary_structure  \\\n",
       "1      CCSCCCCCCCCHHHHHHHHHHHHTCTTHHHHHHHHHHCCCCCSTTS...   \n",
       "1000   CCCCCCCCCCCCCCHHHHCCTTSCSCHHHHHHHHHHHHHHTTCTTT...   \n",
       "10002  CCCCCCCCCCCCCCCHHHHHHCGGGGHHHHHHHHHHHHHHCCTTSC...   \n",
       "\n",
       "                                                sequence  \\\n",
       "1      SRMPSPPMPVPPAALFNRLLDDLGFSAGPALCTMLDTWNEDLFSAL...   \n",
       "1000   MEADVEQQALTLPDLAEQFAPPDIAPPLLIKLVEAIEKKGLECSTL...   \n",
       "10002  MDSSLANINQIDVPSKYLRLLRPVAWLCFLLPYAVGFGFGITPNAS...   \n",
       "\n",
       "                                                   ngram  \\\n",
       "1      [SRM, RMP, MPS, PSP, SPP, PPM, PMP, MPV, PVP, ...   \n",
       "1000   [MEA, EAD, ADV, DVE, VEQ, EQQ, QQA, QAL, ALT, ...   \n",
       "10002  [MDS, DSS, SSL, SLA, LAN, ANI, NIN, INQ, NQI, ...   \n",
       "\n",
       "                                                features  \n",
       "1      [1.1960747496336708, -1.0387311626949265, 1.37...  \n",
       "1000   [0.9981168457395807, -1.0488222891799788, -0.0...  \n",
       "10002  [1.2901504611184786, -1.3279968309953385, 1.52...  "
      ]
     },
     "execution_count": 6,
     "metadata": {},
     "output_type": "execute_result"
    }
   ],
   "source": [
    "df[feature_col] = df.ngram.apply(lambda ng: word2vecutils.average_word_vec_scaled(ng, model.wv))\n",
    "\n",
    "df.head(3)"
   ]
  },
  {
   "cell_type": "markdown",
   "metadata": {},
   "source": [
    "### Save DataFrame"
   ]
  },
  {
   "cell_type": "code",
   "execution_count": 7,
   "metadata": {},
   "outputs": [],
   "source": [
    "df.to_json(\"./features.json\")"
   ]
  },
  {
   "cell_type": "markdown",
   "metadata": {},
   "source": [
    "### Save Word2vec Model"
   ]
  },
  {
   "cell_type": "code",
   "execution_count": 8,
   "metadata": {},
   "outputs": [],
   "source": [
    "model.save(\"./word2vecmodel\")"
   ]
  },
  {
   "cell_type": "markdown",
   "metadata": {},
   "source": [
    "## Next step\n",
    "After you saved the dataset here, go back to the [0-Workflow.ipynb](./0-Workflow.ipynb)  to run the next step of the analysis."
   ]
  },
  {
   "cell_type": "code",
   "execution_count": null,
   "metadata": {},
   "outputs": [],
   "source": []
  }
 ],
 "metadata": {
  "kernelspec": {
   "display_name": "Python 3",
   "language": "python",
   "name": "python3"
  },
  "language_info": {
   "codemirror_mode": {
    "name": "ipython",
    "version": 3
   },
   "file_extension": ".py",
   "mimetype": "text/x-python",
   "name": "python",
   "nbconvert_exporter": "python",
   "pygments_lexer": "ipython3",
   "version": "3.6.3"
  }
 },
 "nbformat": 4,
 "nbformat_minor": 2
}
